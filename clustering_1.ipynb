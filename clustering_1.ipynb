{
  "cells": [
    {
      "cell_type": "markdown",
      "metadata": {
        "id": "view-in-github",
        "colab_type": "text"
      },
      "source": [
        "<a href=\"https://colab.research.google.com/github/koki-takada-1/machine-learning_summary/blob/main/clustering_1.ipynb\" target=\"_parent\"><img src=\"https://colab.research.google.com/assets/colab-badge.svg\" alt=\"Open In Colab\"/></a>"
      ]
    },
    {
      "cell_type": "code",
      "execution_count": null,
      "metadata": {
        "id": "7wbJ--O5ETh7",
        "outputId": "af943265-606e-4b54-c526-784a4025f442"
      },
      "outputs": [
        {
          "name": "stdout",
          "output_type": "stream",
          "text": [
            "703880\n"
          ]
        },
        {
          "data": {
            "text/html": [
              "<div>\n",
              "<style scoped>\n",
              "    .dataframe tbody tr th:only-of-type {\n",
              "        vertical-align: middle;\n",
              "    }\n",
              "\n",
              "    .dataframe tbody tr th {\n",
              "        vertical-align: top;\n",
              "    }\n",
              "\n",
              "    .dataframe thead th {\n",
              "        text-align: right;\n",
              "    }\n",
              "</style>\n",
              "<table border=\"1\" class=\"dataframe\">\n",
              "  <thead>\n",
              "    <tr style=\"text-align: right;\">\n",
              "      <th></th>\n",
              "      <th>order_id</th>\n",
              "      <th>store_id</th>\n",
              "      <th>customer_id</th>\n",
              "      <th>coupon_cd</th>\n",
              "      <th>sales_detail_id</th>\n",
              "      <th>order_accept_date</th>\n",
              "      <th>delivered_date</th>\n",
              "      <th>takeout_flag</th>\n",
              "      <th>total_amount</th>\n",
              "      <th>status</th>\n",
              "      <th>store_name</th>\n",
              "      <th>area_cd</th>\n",
              "      <th>wide_area</th>\n",
              "      <th>narrow_area</th>\n",
              "      <th>takeout_name</th>\n",
              "      <th>status_name</th>\n",
              "    </tr>\n",
              "  </thead>\n",
              "  <tbody>\n",
              "    <tr>\n",
              "      <th>0</th>\n",
              "      <td>79339111</td>\n",
              "      <td>49</td>\n",
              "      <td>C26387220</td>\n",
              "      <td>50</td>\n",
              "      <td>67393872</td>\n",
              "      <td>2020-04-01 11:00:00</td>\n",
              "      <td>2020-04-01 11:18:00</td>\n",
              "      <td>1</td>\n",
              "      <td>4144</td>\n",
              "      <td>1</td>\n",
              "      <td>浅草店</td>\n",
              "      <td>TK</td>\n",
              "      <td>東京</td>\n",
              "      <td>東京</td>\n",
              "      <td>お持ち帰り</td>\n",
              "      <td>お支払済</td>\n",
              "    </tr>\n",
              "    <tr>\n",
              "      <th>1</th>\n",
              "      <td>18941733</td>\n",
              "      <td>85</td>\n",
              "      <td>C48773811</td>\n",
              "      <td>26</td>\n",
              "      <td>91834983</td>\n",
              "      <td>2020-04-01 11:00:00</td>\n",
              "      <td>2020-04-01 11:22:00</td>\n",
              "      <td>0</td>\n",
              "      <td>2877</td>\n",
              "      <td>2</td>\n",
              "      <td>目黒店</td>\n",
              "      <td>TK</td>\n",
              "      <td>東京</td>\n",
              "      <td>東京</td>\n",
              "      <td>デリバリー</td>\n",
              "      <td>お渡し済</td>\n",
              "    </tr>\n",
              "    <tr>\n",
              "      <th>2</th>\n",
              "      <td>56217880</td>\n",
              "      <td>76</td>\n",
              "      <td>C66287421</td>\n",
              "      <td>36</td>\n",
              "      <td>64409634</td>\n",
              "      <td>2020-04-01 11:00:00</td>\n",
              "      <td>2020-04-01 11:15:00</td>\n",
              "      <td>0</td>\n",
              "      <td>2603</td>\n",
              "      <td>2</td>\n",
              "      <td>本郷店</td>\n",
              "      <td>TK</td>\n",
              "      <td>東京</td>\n",
              "      <td>東京</td>\n",
              "      <td>デリバリー</td>\n",
              "      <td>お渡し済</td>\n",
              "    </tr>\n",
              "    <tr>\n",
              "      <th>3</th>\n",
              "      <td>28447783</td>\n",
              "      <td>190</td>\n",
              "      <td>C41156423</td>\n",
              "      <td>19</td>\n",
              "      <td>73032165</td>\n",
              "      <td>2020-04-01 11:00:00</td>\n",
              "      <td>2020-04-01 11:16:00</td>\n",
              "      <td>0</td>\n",
              "      <td>2732</td>\n",
              "      <td>2</td>\n",
              "      <td>栃木店</td>\n",
              "      <td>TO</td>\n",
              "      <td>北関東</td>\n",
              "      <td>栃木</td>\n",
              "      <td>デリバリー</td>\n",
              "      <td>お渡し済</td>\n",
              "    </tr>\n",
              "    <tr>\n",
              "      <th>4</th>\n",
              "      <td>32576156</td>\n",
              "      <td>191</td>\n",
              "      <td>C54568117</td>\n",
              "      <td>71</td>\n",
              "      <td>23281182</td>\n",
              "      <td>2020-04-01 11:00:00</td>\n",
              "      <td>2020-04-01 11:53:00</td>\n",
              "      <td>0</td>\n",
              "      <td>2987</td>\n",
              "      <td>2</td>\n",
              "      <td>伊勢崎店</td>\n",
              "      <td>GU</td>\n",
              "      <td>北関東</td>\n",
              "      <td>群馬</td>\n",
              "      <td>デリバリー</td>\n",
              "      <td>お渡し済</td>\n",
              "    </tr>\n",
              "  </tbody>\n",
              "</table>\n",
              "</div>"
            ],
            "text/plain": [
              "   order_id  store_id customer_id  coupon_cd  sales_detail_id  \\\n",
              "0  79339111        49   C26387220         50         67393872   \n",
              "1  18941733        85   C48773811         26         91834983   \n",
              "2  56217880        76   C66287421         36         64409634   \n",
              "3  28447783       190   C41156423         19         73032165   \n",
              "4  32576156       191   C54568117         71         23281182   \n",
              "\n",
              "     order_accept_date       delivered_date  takeout_flag  total_amount  \\\n",
              "0  2020-04-01 11:00:00  2020-04-01 11:18:00             1          4144   \n",
              "1  2020-04-01 11:00:00  2020-04-01 11:22:00             0          2877   \n",
              "2  2020-04-01 11:00:00  2020-04-01 11:15:00             0          2603   \n",
              "3  2020-04-01 11:00:00  2020-04-01 11:16:00             0          2732   \n",
              "4  2020-04-01 11:00:00  2020-04-01 11:53:00             0          2987   \n",
              "\n",
              "   status store_name area_cd wide_area narrow_area takeout_name status_name  \n",
              "0       1        浅草店      TK        東京          東京        お持ち帰り        お支払済  \n",
              "1       2        目黒店      TK        東京          東京        デリバリー        お渡し済  \n",
              "2       2        本郷店      TK        東京          東京        デリバリー        お渡し済  \n",
              "3       2        栃木店      TO       北関東          栃木        デリバリー        お渡し済  \n",
              "4       2       伊勢崎店      GU       北関東          群馬        デリバリー        お渡し済  "
            ]
          },
          "execution_count": 1,
          "metadata": {},
          "output_type": "execute_result"
        }
      ],
      "source": [
        "import pandas as pd\n",
        "order_data = pd.read_csv('order_data.csv')\n",
        "print(len(order_data))\n",
        "order_data.head()"
      ]
    },
    {
      "cell_type": "code",
      "execution_count": null,
      "metadata": {
        "id": "x8Q-GUtrETh8",
        "outputId": "daa1301f-20f0-479d-d11c-94960dfb15e9"
      },
      "outputs": [
        {
          "name": "stdout",
          "output_type": "stream",
          "text": [
            "574436\n"
          ]
        },
        {
          "data": {
            "text/plain": [
              "Index(['order_id', 'store_id', 'customer_id', 'coupon_cd', 'sales_detail_id',\n",
              "       'order_accept_date', 'delivered_date', 'takeout_flag', 'total_amount',\n",
              "       'status', 'store_name', 'area_cd', 'wide_area', 'narrow_area',\n",
              "       'takeout_name', 'status_name'],\n",
              "      dtype='object')"
            ]
          },
          "execution_count": 2,
          "metadata": {},
          "output_type": "execute_result"
        }
      ],
      "source": [
        "order_data = order_data.loc[(order_data['status'] == 1)|(order_data['status'] == 2)]\n",
        "print(len(order_data))\n",
        "order_data.columns"
      ]
    },
    {
      "cell_type": "code",
      "execution_count": null,
      "metadata": {
        "id": "u976Km_NETh8",
        "outputId": "1e0617b1-aa2b-4345-f757-31f530f77f29"
      },
      "outputs": [
        {
          "name": "stdout",
          "output_type": "stream",
          "text": [
            "(574436, 11)\n"
          ]
        },
        {
          "data": {
            "text/html": [
              "<div>\n",
              "<style scoped>\n",
              "    .dataframe tbody tr th:only-of-type {\n",
              "        vertical-align: middle;\n",
              "    }\n",
              "\n",
              "    .dataframe tbody tr th {\n",
              "        vertical-align: top;\n",
              "    }\n",
              "\n",
              "    .dataframe thead th {\n",
              "        text-align: right;\n",
              "    }\n",
              "</style>\n",
              "<table border=\"1\" class=\"dataframe\">\n",
              "  <thead>\n",
              "    <tr style=\"text-align: right;\">\n",
              "      <th></th>\n",
              "      <th>store_id</th>\n",
              "      <th>customer_id</th>\n",
              "      <th>coupon_cd</th>\n",
              "      <th>order_accept_date</th>\n",
              "      <th>delivered_date</th>\n",
              "      <th>total_amount</th>\n",
              "      <th>store_name</th>\n",
              "      <th>wide_area</th>\n",
              "      <th>narrow_area</th>\n",
              "      <th>takeout_name</th>\n",
              "      <th>status_name</th>\n",
              "    </tr>\n",
              "  </thead>\n",
              "  <tbody>\n",
              "    <tr>\n",
              "      <th>0</th>\n",
              "      <td>49</td>\n",
              "      <td>C26387220</td>\n",
              "      <td>50</td>\n",
              "      <td>2020-04-01 11:00:00</td>\n",
              "      <td>2020-04-01 11:18:00</td>\n",
              "      <td>4144</td>\n",
              "      <td>浅草店</td>\n",
              "      <td>東京</td>\n",
              "      <td>東京</td>\n",
              "      <td>お持ち帰り</td>\n",
              "      <td>お支払済</td>\n",
              "    </tr>\n",
              "    <tr>\n",
              "      <th>1</th>\n",
              "      <td>85</td>\n",
              "      <td>C48773811</td>\n",
              "      <td>26</td>\n",
              "      <td>2020-04-01 11:00:00</td>\n",
              "      <td>2020-04-01 11:22:00</td>\n",
              "      <td>2877</td>\n",
              "      <td>目黒店</td>\n",
              "      <td>東京</td>\n",
              "      <td>東京</td>\n",
              "      <td>デリバリー</td>\n",
              "      <td>お渡し済</td>\n",
              "    </tr>\n",
              "    <tr>\n",
              "      <th>2</th>\n",
              "      <td>76</td>\n",
              "      <td>C66287421</td>\n",
              "      <td>36</td>\n",
              "      <td>2020-04-01 11:00:00</td>\n",
              "      <td>2020-04-01 11:15:00</td>\n",
              "      <td>2603</td>\n",
              "      <td>本郷店</td>\n",
              "      <td>東京</td>\n",
              "      <td>東京</td>\n",
              "      <td>デリバリー</td>\n",
              "      <td>お渡し済</td>\n",
              "    </tr>\n",
              "    <tr>\n",
              "      <th>3</th>\n",
              "      <td>190</td>\n",
              "      <td>C41156423</td>\n",
              "      <td>19</td>\n",
              "      <td>2020-04-01 11:00:00</td>\n",
              "      <td>2020-04-01 11:16:00</td>\n",
              "      <td>2732</td>\n",
              "      <td>栃木店</td>\n",
              "      <td>北関東</td>\n",
              "      <td>栃木</td>\n",
              "      <td>デリバリー</td>\n",
              "      <td>お渡し済</td>\n",
              "    </tr>\n",
              "    <tr>\n",
              "      <th>4</th>\n",
              "      <td>191</td>\n",
              "      <td>C54568117</td>\n",
              "      <td>71</td>\n",
              "      <td>2020-04-01 11:00:00</td>\n",
              "      <td>2020-04-01 11:53:00</td>\n",
              "      <td>2987</td>\n",
              "      <td>伊勢崎店</td>\n",
              "      <td>北関東</td>\n",
              "      <td>群馬</td>\n",
              "      <td>デリバリー</td>\n",
              "      <td>お渡し済</td>\n",
              "    </tr>\n",
              "  </tbody>\n",
              "</table>\n",
              "</div>"
            ],
            "text/plain": [
              "   store_id customer_id  coupon_cd    order_accept_date       delivered_date  \\\n",
              "0        49   C26387220         50  2020-04-01 11:00:00  2020-04-01 11:18:00   \n",
              "1        85   C48773811         26  2020-04-01 11:00:00  2020-04-01 11:22:00   \n",
              "2        76   C66287421         36  2020-04-01 11:00:00  2020-04-01 11:15:00   \n",
              "3       190   C41156423         19  2020-04-01 11:00:00  2020-04-01 11:16:00   \n",
              "4       191   C54568117         71  2020-04-01 11:00:00  2020-04-01 11:53:00   \n",
              "\n",
              "   total_amount store_name wide_area narrow_area takeout_name status_name  \n",
              "0          4144        浅草店        東京          東京        お持ち帰り        お支払済  \n",
              "1          2877        目黒店        東京          東京        デリバリー        お渡し済  \n",
              "2          2603        本郷店        東京          東京        デリバリー        お渡し済  \n",
              "3          2732        栃木店       北関東          栃木        デリバリー        お渡し済  \n",
              "4          2987       伊勢崎店       北関東          群馬        デリバリー        お渡し済  "
            ]
          },
          "execution_count": 3,
          "metadata": {},
          "output_type": "execute_result"
        }
      ],
      "source": [
        "analyze_data = order_data[['store_id', 'customer_id', 'coupon_cd', \n",
        "       'order_accept_date', 'delivered_date', 'total_amount',\n",
        "       'store_name', 'wide_area', 'narrow_area',\n",
        "       'takeout_name', 'status_name']]\n",
        "print(analyze_data.shape)\n",
        "analyze_data.head()"
      ]
    },
    {
      "cell_type": "markdown",
      "metadata": {
        "id": "_NRQrNYZETh8"
      },
      "source": [
        "# データの全体像を把握"
      ]
    },
    {
      "cell_type": "code",
      "execution_count": null,
      "metadata": {
        "id": "GdjgVXEpETh9",
        "outputId": "bbc6e57e-a677-4843-e37e-704f02579ff8"
      },
      "outputs": [
        {
          "data": {
            "text/html": [
              "<div>\n",
              "<style scoped>\n",
              "    .dataframe tbody tr th:only-of-type {\n",
              "        vertical-align: middle;\n",
              "    }\n",
              "\n",
              "    .dataframe tbody tr th {\n",
              "        vertical-align: top;\n",
              "    }\n",
              "\n",
              "    .dataframe thead th {\n",
              "        text-align: right;\n",
              "    }\n",
              "</style>\n",
              "<table border=\"1\" class=\"dataframe\">\n",
              "  <thead>\n",
              "    <tr style=\"text-align: right;\">\n",
              "      <th></th>\n",
              "      <th>store_id</th>\n",
              "      <th>coupon_cd</th>\n",
              "      <th>total_amount</th>\n",
              "    </tr>\n",
              "  </thead>\n",
              "  <tbody>\n",
              "    <tr>\n",
              "      <th>count</th>\n",
              "      <td>574436.000000</td>\n",
              "      <td>574436.000000</td>\n",
              "      <td>574436.000000</td>\n",
              "    </tr>\n",
              "    <tr>\n",
              "      <th>mean</th>\n",
              "      <td>99.113844</td>\n",
              "      <td>49.478758</td>\n",
              "      <td>2960.087555</td>\n",
              "    </tr>\n",
              "    <tr>\n",
              "      <th>std</th>\n",
              "      <td>55.913615</td>\n",
              "      <td>28.888993</td>\n",
              "      <td>954.282731</td>\n",
              "    </tr>\n",
              "    <tr>\n",
              "      <th>min</th>\n",
              "      <td>1.000000</td>\n",
              "      <td>0.000000</td>\n",
              "      <td>698.000000</td>\n",
              "    </tr>\n",
              "    <tr>\n",
              "      <th>25%</th>\n",
              "      <td>51.000000</td>\n",
              "      <td>24.000000</td>\n",
              "      <td>2308.000000</td>\n",
              "    </tr>\n",
              "    <tr>\n",
              "      <th>50%</th>\n",
              "      <td>99.000000</td>\n",
              "      <td>49.000000</td>\n",
              "      <td>2808.000000</td>\n",
              "    </tr>\n",
              "    <tr>\n",
              "      <th>75%</th>\n",
              "      <td>147.000000</td>\n",
              "      <td>75.000000</td>\n",
              "      <td>3617.000000</td>\n",
              "    </tr>\n",
              "    <tr>\n",
              "      <th>max</th>\n",
              "      <td>196.000000</td>\n",
              "      <td>99.000000</td>\n",
              "      <td>5100.000000</td>\n",
              "    </tr>\n",
              "  </tbody>\n",
              "</table>\n",
              "</div>"
            ],
            "text/plain": [
              "            store_id      coupon_cd   total_amount\n",
              "count  574436.000000  574436.000000  574436.000000\n",
              "mean       99.113844      49.478758    2960.087555\n",
              "std        55.913615      28.888993     954.282731\n",
              "min         1.000000       0.000000     698.000000\n",
              "25%        51.000000      24.000000    2308.000000\n",
              "50%        99.000000      49.000000    2808.000000\n",
              "75%       147.000000      75.000000    3617.000000\n",
              "max       196.000000      99.000000    5100.000000"
            ]
          },
          "execution_count": 4,
          "metadata": {},
          "output_type": "execute_result"
        }
      ],
      "source": [
        "analyze_data.describe()"
      ]
    },
    {
      "cell_type": "code",
      "execution_count": null,
      "metadata": {
        "id": "BE27arIHETh9",
        "outputId": "6d79feb7-e4aa-49b8-cdc4-3f11eccec469"
      },
      "outputs": [
        {
          "data": {
            "text/plain": [
              "store_id              int64\n",
              "customer_id          object\n",
              "coupon_cd             int64\n",
              "order_accept_date    object\n",
              "delivered_date       object\n",
              "total_amount          int64\n",
              "store_name           object\n",
              "wide_area            object\n",
              "narrow_area          object\n",
              "takeout_name         object\n",
              "status_name          object\n",
              "dtype: object"
            ]
          },
          "execution_count": 5,
          "metadata": {},
          "output_type": "execute_result"
        }
      ],
      "source": [
        "analyze_data.dtypes"
      ]
    },
    {
      "cell_type": "code",
      "execution_count": null,
      "metadata": {
        "id": "vgWsEEsGETh9",
        "outputId": "ae0eff01-9865-467d-babb-81464f90e987"
      },
      "outputs": [
        {
          "name": "stderr",
          "output_type": "stream",
          "text": [
            "/usr/local/lib/python3.6/dist-packages/pandas/core/frame.py:2963: SettingWithCopyWarning: \n",
            "A value is trying to be set on a copy of a slice from a DataFrame.\n",
            "Try using .loc[row_indexer,col_indexer] = value instead\n",
            "\n",
            "See the caveats in the documentation: https://pandas.pydata.org/pandas-docs/stable/user_guide/indexing.html#returning-a-view-versus-a-copy\n",
            "  self[k1] = value[k2]\n"
          ]
        },
        {
          "data": {
            "text/plain": [
              "store_id             object\n",
              "customer_id          object\n",
              "coupon_cd            object\n",
              "order_accept_date    object\n",
              "delivered_date       object\n",
              "total_amount          int64\n",
              "store_name           object\n",
              "wide_area            object\n",
              "narrow_area          object\n",
              "takeout_name         object\n",
              "status_name          object\n",
              "dtype: object"
            ]
          },
          "execution_count": 6,
          "metadata": {},
          "output_type": "execute_result"
        }
      ],
      "source": [
        "analyze_data[['store_id', 'coupon_cd']] = analyze_data[['store_id', 'coupon_cd']].astype(str)\n",
        "analyze_data.dtypes"
      ]
    },
    {
      "cell_type": "code",
      "execution_count": null,
      "metadata": {
        "id": "IJomU8mzETh9"
      },
      "outputs": [],
      "source": [
        "import warnings\n",
        "warnings.filterwarnings('ignore')"
      ]
    },
    {
      "cell_type": "code",
      "execution_count": null,
      "metadata": {
        "id": "gLoHbIJQETh9",
        "outputId": "19834e9f-a72b-4574-d407-847f07641c1d"
      },
      "outputs": [
        {
          "data": {
            "text/html": [
              "<div>\n",
              "<style scoped>\n",
              "    .dataframe tbody tr th:only-of-type {\n",
              "        vertical-align: middle;\n",
              "    }\n",
              "\n",
              "    .dataframe tbody tr th {\n",
              "        vertical-align: top;\n",
              "    }\n",
              "\n",
              "    .dataframe thead th {\n",
              "        text-align: right;\n",
              "    }\n",
              "</style>\n",
              "<table border=\"1\" class=\"dataframe\">\n",
              "  <thead>\n",
              "    <tr style=\"text-align: right;\">\n",
              "      <th></th>\n",
              "      <th>total_amount</th>\n",
              "    </tr>\n",
              "  </thead>\n",
              "  <tbody>\n",
              "    <tr>\n",
              "      <th>count</th>\n",
              "      <td>574436.000000</td>\n",
              "    </tr>\n",
              "    <tr>\n",
              "      <th>mean</th>\n",
              "      <td>2960.087555</td>\n",
              "    </tr>\n",
              "    <tr>\n",
              "      <th>std</th>\n",
              "      <td>954.282731</td>\n",
              "    </tr>\n",
              "    <tr>\n",
              "      <th>min</th>\n",
              "      <td>698.000000</td>\n",
              "    </tr>\n",
              "    <tr>\n",
              "      <th>25%</th>\n",
              "      <td>2308.000000</td>\n",
              "    </tr>\n",
              "    <tr>\n",
              "      <th>50%</th>\n",
              "      <td>2808.000000</td>\n",
              "    </tr>\n",
              "    <tr>\n",
              "      <th>75%</th>\n",
              "      <td>3617.000000</td>\n",
              "    </tr>\n",
              "    <tr>\n",
              "      <th>max</th>\n",
              "      <td>5100.000000</td>\n",
              "    </tr>\n",
              "  </tbody>\n",
              "</table>\n",
              "</div>"
            ],
            "text/plain": [
              "        total_amount\n",
              "count  574436.000000\n",
              "mean     2960.087555\n",
              "std       954.282731\n",
              "min       698.000000\n",
              "25%      2308.000000\n",
              "50%      2808.000000\n",
              "75%      3617.000000\n",
              "max      5100.000000"
            ]
          },
          "execution_count": 8,
          "metadata": {},
          "output_type": "execute_result"
        }
      ],
      "source": [
        "analyze_data.describe()"
      ]
    },
    {
      "cell_type": "markdown",
      "metadata": {
        "id": "W2wu0L7HETh-"
      },
      "source": [
        "### 月別の売上を集計"
      ]
    },
    {
      "cell_type": "code",
      "execution_count": null,
      "metadata": {
        "id": "4BO5a1GTETh-",
        "outputId": "a0805722-d90a-49b9-ac4f-dc3313eb2007"
      },
      "outputs": [
        {
          "data": {
            "text/html": [
              "<div>\n",
              "<style scoped>\n",
              "    .dataframe tbody tr th:only-of-type {\n",
              "        vertical-align: middle;\n",
              "    }\n",
              "\n",
              "    .dataframe tbody tr th {\n",
              "        vertical-align: top;\n",
              "    }\n",
              "\n",
              "    .dataframe thead th {\n",
              "        text-align: right;\n",
              "    }\n",
              "</style>\n",
              "<table border=\"1\" class=\"dataframe\">\n",
              "  <thead>\n",
              "    <tr style=\"text-align: right;\">\n",
              "      <th></th>\n",
              "      <th>order_accept_date</th>\n",
              "      <th>order_accept_month</th>\n",
              "    </tr>\n",
              "  </thead>\n",
              "  <tbody>\n",
              "    <tr>\n",
              "      <th>0</th>\n",
              "      <td>2020-04-01 11:00:00</td>\n",
              "      <td>202004</td>\n",
              "    </tr>\n",
              "    <tr>\n",
              "      <th>1</th>\n",
              "      <td>2020-04-01 11:00:00</td>\n",
              "      <td>202004</td>\n",
              "    </tr>\n",
              "    <tr>\n",
              "      <th>2</th>\n",
              "      <td>2020-04-01 11:00:00</td>\n",
              "      <td>202004</td>\n",
              "    </tr>\n",
              "    <tr>\n",
              "      <th>3</th>\n",
              "      <td>2020-04-01 11:00:00</td>\n",
              "      <td>202004</td>\n",
              "    </tr>\n",
              "    <tr>\n",
              "      <th>4</th>\n",
              "      <td>2020-04-01 11:00:00</td>\n",
              "      <td>202004</td>\n",
              "    </tr>\n",
              "  </tbody>\n",
              "</table>\n",
              "</div>"
            ],
            "text/plain": [
              "    order_accept_date order_accept_month\n",
              "0 2020-04-01 11:00:00             202004\n",
              "1 2020-04-01 11:00:00             202004\n",
              "2 2020-04-01 11:00:00             202004\n",
              "3 2020-04-01 11:00:00             202004\n",
              "4 2020-04-01 11:00:00             202004"
            ]
          },
          "execution_count": 9,
          "metadata": {},
          "output_type": "execute_result"
        }
      ],
      "source": [
        "analyze_data['order_accept_date'] = pd.to_datetime(analyze_data['order_accept_date'])\n",
        "analyze_data['order_accept_month'] = analyze_data['order_accept_date'].dt.strftime('%Y%m')\n",
        "analyze_data[['order_accept_date', 'order_accept_month']].head()"
      ]
    },
    {
      "cell_type": "code",
      "execution_count": null,
      "metadata": {
        "id": "cwbz9chBETh-",
        "outputId": "cb2463bf-3d84-478c-820f-e2cdd0d5d04f"
      },
      "outputs": [
        {
          "data": {
            "text/html": [
              "<div>\n",
              "<style scoped>\n",
              "    .dataframe tbody tr th:only-of-type {\n",
              "        vertical-align: middle;\n",
              "    }\n",
              "\n",
              "    .dataframe tbody tr th {\n",
              "        vertical-align: top;\n",
              "    }\n",
              "\n",
              "    .dataframe thead th {\n",
              "        text-align: right;\n",
              "    }\n",
              "</style>\n",
              "<table border=\"1\" class=\"dataframe\">\n",
              "  <thead>\n",
              "    <tr style=\"text-align: right;\">\n",
              "      <th></th>\n",
              "      <th>delivered_date</th>\n",
              "      <th>delivered_month</th>\n",
              "    </tr>\n",
              "  </thead>\n",
              "  <tbody>\n",
              "    <tr>\n",
              "      <th>0</th>\n",
              "      <td>2020-04-01 11:18:00</td>\n",
              "      <td>202004</td>\n",
              "    </tr>\n",
              "    <tr>\n",
              "      <th>1</th>\n",
              "      <td>2020-04-01 11:22:00</td>\n",
              "      <td>202004</td>\n",
              "    </tr>\n",
              "    <tr>\n",
              "      <th>2</th>\n",
              "      <td>2020-04-01 11:15:00</td>\n",
              "      <td>202004</td>\n",
              "    </tr>\n",
              "    <tr>\n",
              "      <th>3</th>\n",
              "      <td>2020-04-01 11:16:00</td>\n",
              "      <td>202004</td>\n",
              "    </tr>\n",
              "    <tr>\n",
              "      <th>4</th>\n",
              "      <td>2020-04-01 11:53:00</td>\n",
              "      <td>202004</td>\n",
              "    </tr>\n",
              "  </tbody>\n",
              "</table>\n",
              "</div>"
            ],
            "text/plain": [
              "       delivered_date delivered_month\n",
              "0 2020-04-01 11:18:00          202004\n",
              "1 2020-04-01 11:22:00          202004\n",
              "2 2020-04-01 11:15:00          202004\n",
              "3 2020-04-01 11:16:00          202004\n",
              "4 2020-04-01 11:53:00          202004"
            ]
          },
          "execution_count": 10,
          "metadata": {},
          "output_type": "execute_result"
        }
      ],
      "source": [
        "analyze_data['delivered_date'] = pd.to_datetime(analyze_data['delivered_date'])\n",
        "analyze_data['delivered_month'] = analyze_data['delivered_date'].dt.strftime('%Y%m')\n",
        "analyze_data[['delivered_date', 'delivered_month']].head()"
      ]
    },
    {
      "cell_type": "code",
      "execution_count": null,
      "metadata": {
        "id": "uly1vS2qETh-",
        "outputId": "205bc574-92f4-4138-fe65-89bc09f94f12"
      },
      "outputs": [
        {
          "data": {
            "text/plain": [
              "store_id                      object\n",
              "customer_id                   object\n",
              "coupon_cd                     object\n",
              "order_accept_date     datetime64[ns]\n",
              "delivered_date        datetime64[ns]\n",
              "total_amount                   int64\n",
              "store_name                    object\n",
              "wide_area                     object\n",
              "narrow_area                   object\n",
              "takeout_name                  object\n",
              "status_name                   object\n",
              "order_accept_month            object\n",
              "delivered_month               object\n",
              "dtype: object"
            ]
          },
          "execution_count": 11,
          "metadata": {},
          "output_type": "execute_result"
        }
      ],
      "source": [
        "analyze_data.dtypes"
      ]
    },
    {
      "cell_type": "code",
      "execution_count": null,
      "metadata": {
        "scrolled": true,
        "id": "2sX_dgJ0ETh-",
        "outputId": "ccb6c9d1-7d4f-4a27-8468-44b8cb7a6101"
      },
      "outputs": [
        {
          "data": {
            "text/html": [
              "<div>\n",
              "<style scoped>\n",
              "    .dataframe tbody tr th:only-of-type {\n",
              "        vertical-align: middle;\n",
              "    }\n",
              "\n",
              "    .dataframe tbody tr th {\n",
              "        vertical-align: top;\n",
              "    }\n",
              "\n",
              "    .dataframe thead tr th {\n",
              "        text-align: left;\n",
              "    }\n",
              "\n",
              "    .dataframe thead tr:last-of-type th {\n",
              "        text-align: right;\n",
              "    }\n",
              "</style>\n",
              "<table border=\"1\" class=\"dataframe\">\n",
              "  <thead>\n",
              "    <tr>\n",
              "      <th></th>\n",
              "      <th colspan=\"8\" halign=\"left\">total_amount</th>\n",
              "    </tr>\n",
              "    <tr>\n",
              "      <th></th>\n",
              "      <th>count</th>\n",
              "      <th>mean</th>\n",
              "      <th>std</th>\n",
              "      <th>min</th>\n",
              "      <th>25%</th>\n",
              "      <th>50%</th>\n",
              "      <th>75%</th>\n",
              "      <th>max</th>\n",
              "    </tr>\n",
              "    <tr>\n",
              "      <th>order_accept_month</th>\n",
              "      <th></th>\n",
              "      <th></th>\n",
              "      <th></th>\n",
              "      <th></th>\n",
              "      <th></th>\n",
              "      <th></th>\n",
              "      <th></th>\n",
              "      <th></th>\n",
              "    </tr>\n",
              "  </thead>\n",
              "  <tbody>\n",
              "    <tr>\n",
              "      <th>202004</th>\n",
              "      <td>189414.0</td>\n",
              "      <td>2959.440638</td>\n",
              "      <td>954.271169</td>\n",
              "      <td>698.0</td>\n",
              "      <td>2308.0</td>\n",
              "      <td>2808.0</td>\n",
              "      <td>3586.0</td>\n",
              "      <td>5100.0</td>\n",
              "    </tr>\n",
              "    <tr>\n",
              "      <th>202005</th>\n",
              "      <td>195684.0</td>\n",
              "      <td>2960.327799</td>\n",
              "      <td>954.823248</td>\n",
              "      <td>698.0</td>\n",
              "      <td>2308.0</td>\n",
              "      <td>2808.0</td>\n",
              "      <td>3586.0</td>\n",
              "      <td>5100.0</td>\n",
              "    </tr>\n",
              "    <tr>\n",
              "      <th>202006</th>\n",
              "      <td>189338.0</td>\n",
              "      <td>2960.486437</td>\n",
              "      <td>953.740057</td>\n",
              "      <td>698.0</td>\n",
              "      <td>2308.0</td>\n",
              "      <td>2808.0</td>\n",
              "      <td>3617.0</td>\n",
              "      <td>5100.0</td>\n",
              "    </tr>\n",
              "  </tbody>\n",
              "</table>\n",
              "</div>"
            ],
            "text/plain": [
              "                   total_amount                                          \\\n",
              "                          count         mean         std    min     25%   \n",
              "order_accept_month                                                        \n",
              "202004                 189414.0  2959.440638  954.271169  698.0  2308.0   \n",
              "202005                 195684.0  2960.327799  954.823248  698.0  2308.0   \n",
              "202006                 189338.0  2960.486437  953.740057  698.0  2308.0   \n",
              "\n",
              "                                            \n",
              "                       50%     75%     max  \n",
              "order_accept_month                          \n",
              "202004              2808.0  3586.0  5100.0  \n",
              "202005              2808.0  3586.0  5100.0  \n",
              "202006              2808.0  3617.0  5100.0  "
            ]
          },
          "execution_count": 12,
          "metadata": {},
          "output_type": "execute_result"
        }
      ],
      "source": [
        "month_data = analyze_data.groupby('order_accept_month')\n",
        "month_data.describe()"
      ]
    },
    {
      "cell_type": "code",
      "execution_count": null,
      "metadata": {
        "id": "POF0WxkZETh-",
        "outputId": "b61c27ca-f17b-4464-c5fc-ebdce9b24224"
      },
      "outputs": [
        {
          "data": {
            "text/html": [
              "<div>\n",
              "<style scoped>\n",
              "    .dataframe tbody tr th:only-of-type {\n",
              "        vertical-align: middle;\n",
              "    }\n",
              "\n",
              "    .dataframe tbody tr th {\n",
              "        vertical-align: top;\n",
              "    }\n",
              "\n",
              "    .dataframe thead th {\n",
              "        text-align: right;\n",
              "    }\n",
              "</style>\n",
              "<table border=\"1\" class=\"dataframe\">\n",
              "  <thead>\n",
              "    <tr style=\"text-align: right;\">\n",
              "      <th></th>\n",
              "      <th>total_amount</th>\n",
              "    </tr>\n",
              "    <tr>\n",
              "      <th>order_accept_month</th>\n",
              "      <th></th>\n",
              "    </tr>\n",
              "  </thead>\n",
              "  <tbody>\n",
              "    <tr>\n",
              "      <th>202004</th>\n",
              "      <td>560559489</td>\n",
              "    </tr>\n",
              "    <tr>\n",
              "      <th>202005</th>\n",
              "      <td>579288785</td>\n",
              "    </tr>\n",
              "    <tr>\n",
              "      <th>202006</th>\n",
              "      <td>560532581</td>\n",
              "    </tr>\n",
              "  </tbody>\n",
              "</table>\n",
              "</div>"
            ],
            "text/plain": [
              "                    total_amount\n",
              "order_accept_month              \n",
              "202004                 560559489\n",
              "202005                 579288785\n",
              "202006                 560532581"
            ]
          },
          "execution_count": 13,
          "metadata": {},
          "output_type": "execute_result"
        }
      ],
      "source": [
        "month_data.sum()"
      ]
    },
    {
      "cell_type": "markdown",
      "metadata": {
        "id": "lMowRcWaETh_"
      },
      "source": [
        "### 月別の推移を可視化"
      ]
    },
    {
      "cell_type": "code",
      "execution_count": null,
      "metadata": {
        "scrolled": false,
        "id": "cZ4n1vz8ETh_",
        "outputId": "238c506a-4abd-4d7f-b48f-a5c4f019f56f"
      },
      "outputs": [
        {
          "data": {
            "text/plain": [
              "<AxesSubplot:xlabel='order_accept_month'>"
            ]
          },
          "execution_count": 14,
          "metadata": {},
          "output_type": "execute_result"
        },
        {
          "data": {
            "image/png": "[encoded data removed]",
            "text/plain": [
              "<Figure size 432x288 with 1 Axes>"
            ]
          },
          "metadata": {
            "needs_background": "light"
          },
          "output_type": "display_data"
        }
      ],
      "source": [
        "import matplotlib.pyplot as plt\n",
        "%matplotlib inline\n",
        "month_data.sum().plot()"
      ]
    },
    {
      "cell_type": "code",
      "execution_count": null,
      "metadata": {
        "scrolled": true,
        "id": "1nlaAFQSETh_",
        "outputId": "410822de-a00a-4ce3-e75f-ce8385ad01f8"
      },
      "outputs": [
        {
          "data": {
            "text/plain": [
              "<AxesSubplot:xlabel='order_accept_month'>"
            ]
          },
          "execution_count": 15,
          "metadata": {},
          "output_type": "execute_result"
        },
        {
          "data": {
            "image/png": "[encoded data removed]",
            "text/plain": [
              "<Figure size 432x288 with 1 Axes>"
            ]
          },
          "metadata": {
            "needs_background": "light"
          },
          "output_type": "display_data"
        }
      ],
      "source": [
        "month_data.mean().plot()"
      ]
    },
    {
      "cell_type": "markdown",
      "metadata": {
        "id": "ebYYssPpETh_"
      },
      "source": [
        "### 売上からヒストグラムを作成"
      ]
    },
    {
      "cell_type": "code",
      "execution_count": null,
      "metadata": {
        "id": "oX8tM99cETh_",
        "outputId": "146b5062-4c27-49d2-8a5b-7a819cde74bd"
      },
      "outputs": [
        {
          "data": {
            "text/plain": [
              "(array([ 21524.,      0.,  48969., 135664., 111217.,  77622.,  54146.,\n",
              "         59814.,  34394.,  31086.]),\n",
              " array([ 698. , 1138.2, 1578.4, 2018.6, 2458.8, 2899. , 3339.2, 3779.4,\n",
              "        4219.6, 4659.8, 5100. ]),\n",
              " <BarContainer object of 10 artists>)"
            ]
          },
          "execution_count": 16,
          "metadata": {},
          "output_type": "execute_result"
        },
        {
          "data": {
            "image/png": "[encoded data removed]",
            "text/plain": [
              "<Figure size 432x288 with 1 Axes>"
            ]
          },
          "metadata": {
            "needs_background": "light"
          },
          "output_type": "display_data"
        }
      ],
      "source": [
        "plt.hist(analyze_data['total_amount'])"
      ]
    },
    {
      "cell_type": "code",
      "execution_count": null,
      "metadata": {
        "scrolled": false,
        "id": "SXFJAlSJETh_",
        "outputId": "76ad9c45-0bdf-4d4a-eda7-a8e6af1fd536"
      },
      "outputs": [
        {
          "data": {
            "text/plain": [
              "(array([10728., 10796.,     0.,     0.,     0., 48969., 45777., 78334.,\n",
              "        23175., 66451., 44368., 38745., 27653., 42503., 12508., 35285.,\n",
              "        23739., 11151., 23168., 22649.,  8437.]),\n",
              " array([ 698.        ,  907.61904762, 1117.23809524, 1326.85714286,\n",
              "        1536.47619048, 1746.0952381 , 1955.71428571, 2165.33333333,\n",
              "        2374.95238095, 2584.57142857, 2794.19047619, 3003.80952381,\n",
              "        3213.42857143, 3423.04761905, 3632.66666667, 3842.28571429,\n",
              "        4051.9047619 , 4261.52380952, 4471.14285714, 4680.76190476,\n",
              "        4890.38095238, 5100.        ]),\n",
              " <BarContainer object of 21 artists>)"
            ]
          },
          "execution_count": 17,
          "metadata": {},
          "output_type": "execute_result"
        },
        {
          "data": {
            "image/png": "[encoded data removed]",
            "text/plain": [
              "<Figure size 432x288 with 1 Axes>"
            ]
          },
          "metadata": {
            "needs_background": "light"
          },
          "output_type": "display_data"
        }
      ],
      "source": [
        "plt.hist(analyze_data['total_amount'], bins=21)"
      ]
    },
    {
      "cell_type": "markdown",
      "metadata": {
        "id": "DldMqqMdETh_"
      },
      "source": [
        "### 都道府県別の売上を集計して可視化"
      ]
    },
    {
      "cell_type": "code",
      "execution_count": null,
      "metadata": {
        "id": "rG4sI7lCETiA",
        "outputId": "9cd9b21b-d83e-4680-f579-b9563df98a3e"
      },
      "outputs": [
        {
          "data": {
            "text/html": [
              "<div>\n",
              "<style scoped>\n",
              "    .dataframe tbody tr th:only-of-type {\n",
              "        vertical-align: middle;\n",
              "    }\n",
              "\n",
              "    .dataframe tbody tr th {\n",
              "        vertical-align: top;\n",
              "    }\n",
              "\n",
              "    .dataframe thead th {\n",
              "        text-align: right;\n",
              "    }\n",
              "</style>\n",
              "<table border=\"1\" class=\"dataframe\">\n",
              "  <thead>\n",
              "    <tr style=\"text-align: right;\">\n",
              "      <th>narrow_area</th>\n",
              "      <th>千葉</th>\n",
              "      <th>埼玉</th>\n",
              "      <th>東京</th>\n",
              "      <th>栃木</th>\n",
              "      <th>神奈川</th>\n",
              "      <th>群馬</th>\n",
              "      <th>茨城</th>\n",
              "    </tr>\n",
              "    <tr>\n",
              "      <th>order_accept_month</th>\n",
              "      <th></th>\n",
              "      <th></th>\n",
              "      <th></th>\n",
              "      <th></th>\n",
              "      <th></th>\n",
              "      <th></th>\n",
              "      <th></th>\n",
              "    </tr>\n",
              "  </thead>\n",
              "  <tbody>\n",
              "    <tr>\n",
              "      <th>202004</th>\n",
              "      <td>2959.062000</td>\n",
              "      <td>2976.519634</td>\n",
              "      <td>2960.592173</td>\n",
              "      <td>2992.173548</td>\n",
              "      <td>2948.001171</td>\n",
              "      <td>2942.046543</td>\n",
              "      <td>2947.479814</td>\n",
              "    </tr>\n",
              "    <tr>\n",
              "      <th>202005</th>\n",
              "      <td>2953.545504</td>\n",
              "      <td>2977.290771</td>\n",
              "      <td>2962.603059</td>\n",
              "      <td>2998.165682</td>\n",
              "      <td>2949.597054</td>\n",
              "      <td>2948.269611</td>\n",
              "      <td>2941.796835</td>\n",
              "    </tr>\n",
              "    <tr>\n",
              "      <th>202006</th>\n",
              "      <td>2955.761885</td>\n",
              "      <td>2976.988380</td>\n",
              "      <td>2962.949987</td>\n",
              "      <td>2991.542844</td>\n",
              "      <td>2950.520464</td>\n",
              "      <td>2945.504744</td>\n",
              "      <td>2935.951783</td>\n",
              "    </tr>\n",
              "  </tbody>\n",
              "</table>\n",
              "</div>"
            ],
            "text/plain": [
              "narrow_area                  千葉           埼玉           東京           栃木  \\\n",
              "order_accept_month                                                       \n",
              "202004              2959.062000  2976.519634  2960.592173  2992.173548   \n",
              "202005              2953.545504  2977.290771  2962.603059  2998.165682   \n",
              "202006              2955.761885  2976.988380  2962.949987  2991.542844   \n",
              "\n",
              "narrow_area                 神奈川           群馬           茨城  \n",
              "order_accept_month                                         \n",
              "202004              2948.001171  2942.046543  2947.479814  \n",
              "202005              2949.597054  2948.269611  2941.796835  \n",
              "202006              2950.520464  2945.504744  2935.951783  "
            ]
          },
          "execution_count": 18,
          "metadata": {},
          "output_type": "execute_result"
        }
      ],
      "source": [
        "pre_data = pd.pivot_table(analyze_data, index='order_accept_month', columns='narrow_area', values='total_amount', aggfunc='mean')\n",
        "pre_data"
      ]
    },
    {
      "cell_type": "code",
      "execution_count": null,
      "metadata": {
        "id": "Swee68knETiA",
        "outputId": "ed792066-0045-46d6-a85c-21237e1b68d1"
      },
      "outputs": [
        {
          "data": {
            "text/plain": [
              "<matplotlib.legend.Legend at 0x7f39cd008518>"
            ]
          },
          "execution_count": 19,
          "metadata": {},
          "output_type": "execute_result"
        },
        {
          "data": {
            "image/png": "[encoded data removed]",
            "text/plain": [
              "<Figure size 432x288 with 1 Axes>"
            ]
          },
          "metadata": {
            "needs_background": "light"
          },
          "output_type": "display_data"
        }
      ],
      "source": [
        "import japanize_matplotlib\n",
        "plt.plot(list(pre_data.index), pre_data['東京'], label='東京')\n",
        "plt.plot(list(pre_data.index), pre_data['神奈川'], label='神奈川')\n",
        "plt.plot(list(pre_data.index), pre_data['埼玉'], label='埼玉')\n",
        "plt.plot(list(pre_data.index), pre_data['千葉'], label='千葉')\n",
        "plt.plot(list(pre_data.index), pre_data['茨城'], label='茨城')\n",
        "plt.plot(list(pre_data.index), pre_data['栃木'], label='栃木')\n",
        "plt.plot(list(pre_data.index), pre_data['群馬'], label='群馬')\n",
        "plt.legend()"
      ]
    },
    {
      "cell_type": "markdown",
      "metadata": {
        "id": "QWbBhRXlETiA"
      },
      "source": [
        "### クラスタリング用データに加工"
      ]
    },
    {
      "cell_type": "code",
      "execution_count": null,
      "metadata": {
        "id": "nIO5bWscETiA",
        "outputId": "f0b571ca-3462-4ce4-9092-f4ce4ef27a62"
      },
      "outputs": [
        {
          "name": "stdout",
          "output_type": "stream",
          "text": [
            "196\n"
          ]
        },
        {
          "data": {
            "text/html": [
              "<div>\n",
              "<style scoped>\n",
              "    .dataframe tbody tr th:only-of-type {\n",
              "        vertical-align: middle;\n",
              "    }\n",
              "\n",
              "    .dataframe tbody tr th {\n",
              "        vertical-align: top;\n",
              "    }\n",
              "\n",
              "    .dataframe thead th {\n",
              "        text-align: right;\n",
              "    }\n",
              "</style>\n",
              "<table border=\"1\" class=\"dataframe\">\n",
              "  <thead>\n",
              "    <tr style=\"text-align: right;\">\n",
              "      <th></th>\n",
              "      <th>size</th>\n",
              "      <th>mean</th>\n",
              "      <th>median</th>\n",
              "      <th>max</th>\n",
              "      <th>min</th>\n",
              "    </tr>\n",
              "  </thead>\n",
              "  <tbody>\n",
              "    <tr>\n",
              "      <th>0</th>\n",
              "      <td>2877</td>\n",
              "      <td>3129.834897</td>\n",
              "      <td>3050</td>\n",
              "      <td>5100</td>\n",
              "      <td>1857</td>\n",
              "    </tr>\n",
              "    <tr>\n",
              "      <th>1</th>\n",
              "      <td>2294</td>\n",
              "      <td>2989.003923</td>\n",
              "      <td>2677</td>\n",
              "      <td>5100</td>\n",
              "      <td>698</td>\n",
              "    </tr>\n",
              "    <tr>\n",
              "      <th>2</th>\n",
              "      <td>3776</td>\n",
              "      <td>2947.170286</td>\n",
              "      <td>2808</td>\n",
              "      <td>5100</td>\n",
              "      <td>698</td>\n",
              "    </tr>\n",
              "    <tr>\n",
              "      <th>3</th>\n",
              "      <td>1740</td>\n",
              "      <td>3074.770115</td>\n",
              "      <td>2877</td>\n",
              "      <td>4744</td>\n",
              "      <td>1899</td>\n",
              "    </tr>\n",
              "    <tr>\n",
              "      <th>4</th>\n",
              "      <td>2760</td>\n",
              "      <td>2845.661594</td>\n",
              "      <td>2791</td>\n",
              "      <td>4744</td>\n",
              "      <td>698</td>\n",
              "    </tr>\n",
              "  </tbody>\n",
              "</table>\n",
              "</div>"
            ],
            "text/plain": [
              "   size         mean  median   max   min\n",
              "0  2877  3129.834897    3050  5100  1857\n",
              "1  2294  2989.003923    2677  5100   698\n",
              "2  3776  2947.170286    2808  5100   698\n",
              "3  1740  3074.770115    2877  4744  1899\n",
              "4  2760  2845.661594    2791  4744   698"
            ]
          },
          "execution_count": 20,
          "metadata": {},
          "output_type": "execute_result"
        }
      ],
      "source": [
        "store_clustering = analyze_data.groupby('store_id').agg(['size', 'mean', 'median', 'max', 'min'])['total_amount']\n",
        "store_clustering.reset_index(inplace = True, drop = True)\n",
        "print(len(store_clustering))\n",
        "store_clustering.head()"
      ]
    },
    {
      "cell_type": "code",
      "execution_count": null,
      "metadata": {
        "id": "91mpnCzUETiA",
        "outputId": "e353574e-a379-4985-ad94-5e88788ec25a"
      },
      "outputs": [
        {
          "data": {
            "image/png": "[encoded data removed]",
            "text/plain": [
              "<Figure size 432x432 with 3 Axes>"
            ]
          },
          "metadata": {
            "needs_background": "light"
          },
          "output_type": "display_data"
        }
      ],
      "source": [
        "import seaborn as sns\n",
        "hexbin = sns.jointplot(x='mean', y='size', data=store_clustering, kind='hex')"
      ]
    },
    {
      "cell_type": "markdown",
      "metadata": {
        "id": "DUwg3z12ETiA"
      },
      "source": [
        "### クラスタリングで店舗をグループ化"
      ]
    },
    {
      "cell_type": "code",
      "execution_count": null,
      "metadata": {
        "id": "ZfMFTxlKETiA",
        "outputId": "15ef6283-eb68-4e8e-eae2-4b18583a752f"
      },
      "outputs": [
        {
          "name": "stdout",
          "output_type": "stream",
          "text": [
            "[0 3 2 1]\n"
          ]
        },
        {
          "data": {
            "text/html": [
              "<div>\n",
              "<style scoped>\n",
              "    .dataframe tbody tr th:only-of-type {\n",
              "        vertical-align: middle;\n",
              "    }\n",
              "\n",
              "    .dataframe tbody tr th {\n",
              "        vertical-align: top;\n",
              "    }\n",
              "\n",
              "    .dataframe thead th {\n",
              "        text-align: right;\n",
              "    }\n",
              "</style>\n",
              "<table border=\"1\" class=\"dataframe\">\n",
              "  <thead>\n",
              "    <tr style=\"text-align: right;\">\n",
              "      <th></th>\n",
              "      <th>size</th>\n",
              "      <th>mean</th>\n",
              "      <th>median</th>\n",
              "      <th>max</th>\n",
              "      <th>min</th>\n",
              "      <th>cluster</th>\n",
              "    </tr>\n",
              "  </thead>\n",
              "  <tbody>\n",
              "    <tr>\n",
              "      <th>0</th>\n",
              "      <td>2877</td>\n",
              "      <td>3129.834897</td>\n",
              "      <td>3050</td>\n",
              "      <td>5100</td>\n",
              "      <td>1857</td>\n",
              "      <td>0</td>\n",
              "    </tr>\n",
              "    <tr>\n",
              "      <th>1</th>\n",
              "      <td>2294</td>\n",
              "      <td>2989.003923</td>\n",
              "      <td>2677</td>\n",
              "      <td>5100</td>\n",
              "      <td>698</td>\n",
              "      <td>3</td>\n",
              "    </tr>\n",
              "    <tr>\n",
              "      <th>2</th>\n",
              "      <td>3776</td>\n",
              "      <td>2947.170286</td>\n",
              "      <td>2808</td>\n",
              "      <td>5100</td>\n",
              "      <td>698</td>\n",
              "      <td>2</td>\n",
              "    </tr>\n",
              "    <tr>\n",
              "      <th>3</th>\n",
              "      <td>1740</td>\n",
              "      <td>3074.770115</td>\n",
              "      <td>2877</td>\n",
              "      <td>4744</td>\n",
              "      <td>1899</td>\n",
              "      <td>0</td>\n",
              "    </tr>\n",
              "    <tr>\n",
              "      <th>4</th>\n",
              "      <td>2760</td>\n",
              "      <td>2845.661594</td>\n",
              "      <td>2791</td>\n",
              "      <td>4744</td>\n",
              "      <td>698</td>\n",
              "      <td>3</td>\n",
              "    </tr>\n",
              "  </tbody>\n",
              "</table>\n",
              "</div>"
            ],
            "text/plain": [
              "   size         mean  median   max   min  cluster\n",
              "0  2877  3129.834897    3050  5100  1857        0\n",
              "1  2294  2989.003923    2677  5100   698        3\n",
              "2  3776  2947.170286    2808  5100   698        2\n",
              "3  1740  3074.770115    2877  4744  1899        0\n",
              "4  2760  2845.661594    2791  4744   698        3"
            ]
          },
          "execution_count": 22,
          "metadata": {},
          "output_type": "execute_result"
        }
      ],
      "source": [
        "from sklearn.cluster import KMeans\n",
        "from sklearn.preprocessing import StandardScaler\n",
        "sc = StandardScaler()\n",
        "store_clustering_sc = sc.fit_transform(store_clustering)\n",
        "\n",
        "kmeans = KMeans(n_clusters=4, random_state=0)\n",
        "clusters = kmeans.fit(store_clustering_sc)\n",
        "store_clustering['cluster'] = clusters.labels_\n",
        "print(store_clustering['cluster'].unique())\n",
        "store_clustering.head()"
      ]
    },
    {
      "cell_type": "markdown",
      "metadata": {
        "id": "CuFft1tMETiB"
      },
      "source": [
        "### グループの傾向を分析する"
      ]
    },
    {
      "cell_type": "code",
      "execution_count": null,
      "metadata": {
        "id": "sg8xEQO-ETiB",
        "outputId": "5852827e-4460-40e0-d1f4-ffa3f82f8473"
      },
      "outputs": [
        {
          "data": {
            "text/html": [
              "<div>\n",
              "<style scoped>\n",
              "    .dataframe tbody tr th:only-of-type {\n",
              "        vertical-align: middle;\n",
              "    }\n",
              "\n",
              "    .dataframe tbody tr th {\n",
              "        vertical-align: top;\n",
              "    }\n",
              "\n",
              "    .dataframe thead th {\n",
              "        text-align: right;\n",
              "    }\n",
              "</style>\n",
              "<table border=\"1\" class=\"dataframe\">\n",
              "  <thead>\n",
              "    <tr style=\"text-align: right;\">\n",
              "      <th></th>\n",
              "      <th>月内件数</th>\n",
              "      <th>月内平均値</th>\n",
              "      <th>月内中央値</th>\n",
              "      <th>月内最大値</th>\n",
              "      <th>月内最小値</th>\n",
              "    </tr>\n",
              "    <tr>\n",
              "      <th>cluster</th>\n",
              "      <th></th>\n",
              "      <th></th>\n",
              "      <th></th>\n",
              "      <th></th>\n",
              "      <th></th>\n",
              "    </tr>\n",
              "  </thead>\n",
              "  <tbody>\n",
              "    <tr>\n",
              "      <th>0</th>\n",
              "      <td>14</td>\n",
              "      <td>14</td>\n",
              "      <td>14</td>\n",
              "      <td>14</td>\n",
              "      <td>14</td>\n",
              "    </tr>\n",
              "    <tr>\n",
              "      <th>1</th>\n",
              "      <td>24</td>\n",
              "      <td>24</td>\n",
              "      <td>24</td>\n",
              "      <td>24</td>\n",
              "      <td>24</td>\n",
              "    </tr>\n",
              "    <tr>\n",
              "      <th>2</th>\n",
              "      <td>89</td>\n",
              "      <td>89</td>\n",
              "      <td>89</td>\n",
              "      <td>89</td>\n",
              "      <td>89</td>\n",
              "    </tr>\n",
              "    <tr>\n",
              "      <th>3</th>\n",
              "      <td>69</td>\n",
              "      <td>69</td>\n",
              "      <td>69</td>\n",
              "      <td>69</td>\n",
              "      <td>69</td>\n",
              "    </tr>\n",
              "  </tbody>\n",
              "</table>\n",
              "</div>"
            ],
            "text/plain": [
              "         月内件数  月内平均値  月内中央値  月内最大値  月内最小値\n",
              "cluster                                  \n",
              "0          14     14     14     14     14\n",
              "1          24     24     24     24     24\n",
              "2          89     89     89     89     89\n",
              "3          69     69     69     69     69"
            ]
          },
          "execution_count": 23,
          "metadata": {},
          "output_type": "execute_result"
        }
      ],
      "source": [
        "store_clustering.columns = ['月内件数', '月内平均値', '月内中央値', '月内最大値', '月内最小値', 'cluster']\n",
        "store_clustering.groupby('cluster').count()"
      ]
    },
    {
      "cell_type": "code",
      "execution_count": null,
      "metadata": {
        "id": "SeUPe8N2ETiB",
        "outputId": "effa173a-bc25-4888-d747-60bade5b089a"
      },
      "outputs": [
        {
          "data": {
            "text/html": [
              "<div>\n",
              "<style scoped>\n",
              "    .dataframe tbody tr th:only-of-type {\n",
              "        vertical-align: middle;\n",
              "    }\n",
              "\n",
              "    .dataframe tbody tr th {\n",
              "        vertical-align: top;\n",
              "    }\n",
              "\n",
              "    .dataframe thead th {\n",
              "        text-align: right;\n",
              "    }\n",
              "</style>\n",
              "<table border=\"1\" class=\"dataframe\">\n",
              "  <thead>\n",
              "    <tr style=\"text-align: right;\">\n",
              "      <th></th>\n",
              "      <th>月内件数</th>\n",
              "      <th>月内平均値</th>\n",
              "      <th>月内中央値</th>\n",
              "      <th>月内最大値</th>\n",
              "      <th>月内最小値</th>\n",
              "    </tr>\n",
              "    <tr>\n",
              "      <th>cluster</th>\n",
              "      <th></th>\n",
              "      <th></th>\n",
              "      <th></th>\n",
              "      <th></th>\n",
              "      <th></th>\n",
              "    </tr>\n",
              "  </thead>\n",
              "  <tbody>\n",
              "    <tr>\n",
              "      <th>0</th>\n",
              "      <td>2514.642857</td>\n",
              "      <td>3071.595911</td>\n",
              "      <td>2880.428571</td>\n",
              "      <td>4896.571429</td>\n",
              "      <td>1882.071429</td>\n",
              "    </tr>\n",
              "    <tr>\n",
              "      <th>1</th>\n",
              "      <td>2801.583333</td>\n",
              "      <td>3063.532847</td>\n",
              "      <td>3009.375000</td>\n",
              "      <td>5023.666667</td>\n",
              "      <td>758.250000</td>\n",
              "    </tr>\n",
              "    <tr>\n",
              "      <th>2</th>\n",
              "      <td>3274.797753</td>\n",
              "      <td>2967.584258</td>\n",
              "      <td>2796.808989</td>\n",
              "      <td>5080.000000</td>\n",
              "      <td>741.325843</td>\n",
              "    </tr>\n",
              "    <tr>\n",
              "      <th>3</th>\n",
              "      <td>2616.463768</td>\n",
              "      <td>2887.247467</td>\n",
              "      <td>2728.217391</td>\n",
              "      <td>4756.304348</td>\n",
              "      <td>743.405797</td>\n",
              "    </tr>\n",
              "  </tbody>\n",
              "</table>\n",
              "</div>"
            ],
            "text/plain": [
              "                月内件数        月内平均値        月内中央値        月内最大値        月内最小値\n",
              "cluster                                                                 \n",
              "0        2514.642857  3071.595911  2880.428571  4896.571429  1882.071429\n",
              "1        2801.583333  3063.532847  3009.375000  5023.666667   758.250000\n",
              "2        3274.797753  2967.584258  2796.808989  5080.000000   741.325843\n",
              "3        2616.463768  2887.247467  2728.217391  4756.304348   743.405797"
            ]
          },
          "execution_count": 24,
          "metadata": {},
          "output_type": "execute_result"
        }
      ],
      "source": [
        "store_clustering.groupby('cluster').mean()"
      ]
    },
    {
      "cell_type": "markdown",
      "metadata": {
        "id": "jmI6tK6JETiB"
      },
      "source": [
        "### クラスタリングの結果をt-SNEで可視化"
      ]
    },
    {
      "cell_type": "code",
      "execution_count": null,
      "metadata": {
        "id": "U18-9Y2-ETiB",
        "outputId": "4363be8b-bed5-4c4a-e29a-c9f44446a435"
      },
      "outputs": [
        {
          "data": {
            "text/html": [
              "<div>\n",
              "<style scoped>\n",
              "    .dataframe tbody tr th:only-of-type {\n",
              "        vertical-align: middle;\n",
              "    }\n",
              "\n",
              "    .dataframe tbody tr th {\n",
              "        vertical-align: top;\n",
              "    }\n",
              "\n",
              "    .dataframe thead th {\n",
              "        text-align: right;\n",
              "    }\n",
              "</style>\n",
              "<table border=\"1\" class=\"dataframe\">\n",
              "  <thead>\n",
              "    <tr style=\"text-align: right;\">\n",
              "      <th></th>\n",
              "      <th>axis_0</th>\n",
              "      <th>axis_1</th>\n",
              "      <th>cluster</th>\n",
              "    </tr>\n",
              "  </thead>\n",
              "  <tbody>\n",
              "    <tr>\n",
              "      <th>0</th>\n",
              "      <td>-5.116744</td>\n",
              "      <td>3.308903</td>\n",
              "      <td>0</td>\n",
              "    </tr>\n",
              "    <tr>\n",
              "      <th>1</th>\n",
              "      <td>11.047794</td>\n",
              "      <td>0.016504</td>\n",
              "      <td>3</td>\n",
              "    </tr>\n",
              "    <tr>\n",
              "      <th>2</th>\n",
              "      <td>13.164879</td>\n",
              "      <td>9.757247</td>\n",
              "      <td>2</td>\n",
              "    </tr>\n",
              "    <tr>\n",
              "      <th>3</th>\n",
              "      <td>-6.517968</td>\n",
              "      <td>1.094347</td>\n",
              "      <td>0</td>\n",
              "    </tr>\n",
              "    <tr>\n",
              "      <th>4</th>\n",
              "      <td>-10.660534</td>\n",
              "      <td>-10.523395</td>\n",
              "      <td>3</td>\n",
              "    </tr>\n",
              "  </tbody>\n",
              "</table>\n",
              "</div>"
            ],
            "text/plain": [
              "      axis_0     axis_1  cluster\n",
              "0  -5.116744   3.308903        0\n",
              "1  11.047794   0.016504        3\n",
              "2  13.164879   9.757247        2\n",
              "3  -6.517968   1.094347        0\n",
              "4 -10.660534 -10.523395        3"
            ]
          },
          "execution_count": 25,
          "metadata": {},
          "output_type": "execute_result"
        }
      ],
      "source": [
        "from sklearn.manifold import TSNE\n",
        "tsne = TSNE(n_components=2, random_state=0)\n",
        "x = tsne.fit_transform(store_clustering_sc)\n",
        "tsne_df = pd.DataFrame(x)\n",
        "tsne_df['cluster'] = store_clustering['cluster']\n",
        "tsne_df.columns = ['axis_0', 'axis_1', 'cluster']\n",
        "tsne_df.head()"
      ]
    },
    {
      "cell_type": "code",
      "execution_count": null,
      "metadata": {
        "id": "YUfdec5PETiB",
        "outputId": "5cc45edd-400e-4c6d-fe56-a35301158ed2"
      },
      "outputs": [
        {
          "data": {
            "image/png": "[encoded data removed]",
            "text/plain": [
              "<Figure size 432x288 with 1 Axes>"
            ]
          },
          "metadata": {
            "needs_background": "light"
          },
          "output_type": "display_data"
        }
      ],
      "source": [
        "tsne_graph = sns.scatterplot(x='axis_0', y='axis_1', hue='cluster', data=tsne_df)"
      ]
    }
  ],
  "metadata": {
    "kernelspec": {
      "display_name": "Python 3",
      "language": "python",
      "name": "python3"
    },
    "language_info": {
      "codemirror_mode": {
        "name": "ipython",
        "version": 3
      },
      "file_extension": ".py",
      "mimetype": "text/x-python",
      "name": "python",
      "nbconvert_exporter": "python",
      "pygments_lexer": "ipython3",
      "version": "3.6.9"
    },
    "colab": {
      "provenance": [],
      "include_colab_link": true
    }
  },
  "nbformat": 4,
  "nbformat_minor": 0
}