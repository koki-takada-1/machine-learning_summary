{
  "nbformat": 4,
  "nbformat_minor": 0,
  "metadata": {
    "colab": {
      "provenance": [],
      "authorship_tag": "ABX9TyOcz2eZusoT4ZeOyuoN69Hv",
      "include_colab_link": true
    },
    "kernelspec": {
      "name": "python3",
      "display_name": "Python 3"
    },
    "language_info": {
      "name": "python"
    },
    "accelerator": "TPU"
  },
  "cells": [
    {
      "cell_type": "markdown",
      "metadata": {
        "id": "view-in-github",
        "colab_type": "text"
      },
      "source": [
        "<a href=\"https://colab.research.google.com/github/koki-takada-1/machine-learning_summary/blob/main/dl_MNIST.ipynb\" target=\"_parent\"><img src=\"https://colab.research.google.com/assets/colab-badge.svg\" alt=\"Open In Colab\"/></a>"
      ]
    },
    {
      "cell_type": "code",
      "execution_count": null,
      "metadata": {
        "colab": {
          "base_uri": "https://localhost:8080/"
        },
        "id": "Z_Io_2J8KMue",
        "outputId": "2273b5af-ef1e-4186-cb1c-3fb169cb8260"
      },
      "outputs": [
        {
          "output_type": "stream",
          "name": "stdout",
          "text": [
            "220516:AISD1:MNIST_CNN_Conv2Dが2段\n",
            "2022-05-16 09:25:43.289473 MNIST\n"
          ]
        }
      ],
      "source": [
        "print(\"220516:AISD1:MNIST_CNN_Conv2Dが2段\")\n",
        "import datetime\n",
        "print(datetime.datetime.now(),\"MNIST\" )"
      ]
    },
    {
      "cell_type": "code",
      "source": [
        "'''初期設定、Google　Colabを準備し、\n",
        "ランタイム/セッションの管理：　の全てを終了しておく\n",
        "ランタイム/ランタイムのタイプを変更：　でハードウェアアクセラレータを「TPU」にする'''\n",
        "#(1)\n",
        "import tensorflow as tf\n",
        "import keras\n",
        "import matplotlib.pyplot as plt\n",
        "print('keras version ',keras.__version__)\n",
        "print('tensorflow version=',tf.__version__)### for Python 2,3\n",
        "try:\n",
        "  tpu = tf.distribute.cluster_resolver.TPUClusterResolver()  # TPU detection\n",
        "  print('Running on TPU ', tpu.cluster_spec().as_dict()['worker'])\n",
        "except ValueError:\n",
        "  raise BaseException('ERROR: Not connected to a TPU runtime; please see the previous cell in this notebook for instructions!')\n",
        "import os\n",
        "import tensorflow_datasets as tfds\n",
        "resolver = tf.distribute.cluster_resolver.TPUClusterResolver(tpu='')\n",
        "tf.config.experimental_connect_to_cluster(resolver)\n",
        "# This is the TPU initialization code that has to be at the beginning.\n",
        "tf.tpu.experimental.initialize_tpu_system(resolver)\n",
        "print(\"All devices: \", tf.config.list_logical_devices('TPU'))"
      ],
      "metadata": {
        "colab": {
          "base_uri": "https://localhost:8080/"
        },
        "id": "isHwjNtnK33b",
        "outputId": "1e0fb7c3-b043-44c6-bcc0-8bc976f092a3"
      },
      "execution_count": null,
      "outputs": [
        {
          "output_type": "stream",
          "name": "stdout",
          "text": [
            "keras version  2.8.0\n",
            "tensorflow version= 2.8.0\n",
            "Running on TPU  ['10.34.225.234:8470']\n",
            "INFO:tensorflow:Deallocate tpu buffers before initializing tpu system.\n"
          ]
        },
        {
          "output_type": "stream",
          "name": "stderr",
          "text": [
            "INFO:tensorflow:Deallocate tpu buffers before initializing tpu system.\n"
          ]
        },
        {
          "output_type": "stream",
          "name": "stdout",
          "text": [
            "INFO:tensorflow:Initializing the TPU system: grpc://10.34.225.234:8470\n"
          ]
        },
        {
          "output_type": "stream",
          "name": "stderr",
          "text": [
            "INFO:tensorflow:Initializing the TPU system: grpc://10.34.225.234:8470\n"
          ]
        },
        {
          "output_type": "stream",
          "name": "stdout",
          "text": [
            "INFO:tensorflow:Finished initializing TPU system.\n"
          ]
        },
        {
          "output_type": "stream",
          "name": "stderr",
          "text": [
            "INFO:tensorflow:Finished initializing TPU system.\n"
          ]
        },
        {
          "output_type": "stream",
          "name": "stdout",
          "text": [
            "All devices:  [LogicalDevice(name='/job:worker/replica:0/task:0/device:TPU:0', device_type='TPU'), LogicalDevice(name='/job:worker/replica:0/task:0/device:TPU:1', device_type='TPU'), LogicalDevice(name='/job:worker/replica:0/task:0/device:TPU:2', device_type='TPU'), LogicalDevice(name='/job:worker/replica:0/task:0/device:TPU:3', device_type='TPU'), LogicalDevice(name='/job:worker/replica:0/task:0/device:TPU:4', device_type='TPU'), LogicalDevice(name='/job:worker/replica:0/task:0/device:TPU:5', device_type='TPU'), LogicalDevice(name='/job:worker/replica:0/task:0/device:TPU:6', device_type='TPU'), LogicalDevice(name='/job:worker/replica:0/task:0/device:TPU:7', device_type='TPU')]\n"
          ]
        }
      ]
    },
    {
      "cell_type": "code",
      "source": [
        "#手書き数字データMNISTを読み込む\n",
        "#(2)\n",
        "(x_train, y_train), (x_test, y_test) = tf.keras.datasets.mnist.load_data()\n",
        "# 画像データ16件をキャンバスに2行8列で白黒で出力\n",
        "for i in range(0, 16):\n",
        "       plt.subplot(2, 8, i + 1)\n",
        "       plt.imshow(x_train[i], cmap='gray')\n",
        "plt.show()"
      ],
      "metadata": {
        "id": "C8Sdw_gTLCWk",
        "colab": {
          "base_uri": "https://localhost:8080/",
          "height": 259
        },
        "outputId": "3939d5b3-d2ac-4431-b333-1f187c3ad6c8"
      },
      "execution_count": null,
      "outputs": [
        {
          "output_type": "stream",
          "name": "stdout",
          "text": [
            "Downloading data from https://storage.googleapis.com/tensorflow/tf-keras-datasets/mnist.npz\n",
            "11493376/11490434 [==============================] - 0s 0us/step\n",
            "11501568/11490434 [==============================] - 0s 0us/step\n"
          ]
        },
        {
          "output_type": "display_data",
          "data": {
            "text/plain": [
              "<Figure size 432x288 with 16 Axes>"
            ],
            "image/png": "[encoded data removed]"
          },
          "metadata": {
            "needs_background": "light"
          }
        }
      ]
    },
    {
      "cell_type": "code",
      "source": [
        "#学習用に、データの配列構造を変更する\n",
        "#また、最大値255で割って最大値を1.0の実数にする正規化を行う\n",
        "#(3)\n",
        "x_train = x_train.reshape((60000, 28, 28, 1))\n",
        "x_test = x_test.reshape((10000, 28, 28, 1))\n",
        "x_train, x_test = x_train / 255.0, x_test / 255.0\n",
        "print(\"len(x_train)=\",len(x_train),\"::len(x_test)=\",len(x_test))\n",
        "print(\"train.ndim=\",x_train.ndim,\"::test.ndim=\",x_test.ndim)\n",
        "print(\"train.size=\",x_train.size,\"::test.size=\",x_test.size)\n",
        "print(\"train.shape=\",x_train.shape,\"::test.shape=\",x_test.shape)\n"
      ],
      "metadata": {
        "id": "LR3nByr0LQKe",
        "colab": {
          "base_uri": "https://localhost:8080/"
        },
        "outputId": "9e87a93f-3db6-42bf-ec43-3b419886d58e"
      },
      "execution_count": null,
      "outputs": [
        {
          "output_type": "stream",
          "name": "stdout",
          "text": [
            "len(x_train)= 60000 ::len(x_test)= 10000\n",
            "train.ndim= 4 ::test.ndim= 4\n",
            "train.size= 47040000 ::test.size= 7840000\n",
            "train.shape= (60000, 28, 28, 1) ::test.shape= (10000, 28, 28, 1)\n"
          ]
        }
      ]
    },
    {
      "cell_type": "code",
      "source": [
        "'''以下の#(4)と#(4b)はモデルの設定を行っている\n",
        "#(4)はMLP=Multi_Layer_Perceptron（多層パーセプトロン）で、ニューラルネットワークの層が複数あるものである\n",
        "#(4b)はCNN=Convolutional Neural Network（畳み込みニューラルネットワーク）＝深層学習を行うものである\n",
        "両方書いておいて、実行するときに(4)と(4b)のどちらか一方を行い、#(5)へ進む'''\n",
        "#(4)(ここは、(4)か(4b)かのどちらかを行い、(5)へ進む：（４）はMLPの場合\n",
        "model = tf.keras.models.Sequential([\n",
        "tf.keras.layers.Flatten(input_shape=(28, 28)),\n",
        "tf.keras.layers.Dense(128, activation='relu'),\n",
        "tf.keras.layers.Dropout(0.2),\n",
        "tf.keras.layers.Dense(10)\n",
        "])\n",
        "\n",
        "loss_fn = tf.keras.losses.SparseCategoricalCrossentropy(from_logits=True)\n",
        "\n",
        "model.compile(optimizer='adam',\n",
        "              loss=loss_fn,\n",
        "              metrics=['accuracy'])\n",
        "model.summary()\n",
        "\n",
        "\n",
        "\n",
        "#(4b)(4bはCNNの場合\n",
        "# A simple model based off LeNet from https://keras.io/examples/mnist_cnn/\n",
        "model = tf.keras.models.Sequential()\n",
        "model.add(tf.keras.layers.Conv2D(32, [3, 3], activation='relu', input_shape=(28,28,1)))\n",
        "model.add(tf.keras.layers.Conv2D(64, [3, 3], activation='relu'))\n",
        "model.add(tf.keras.layers.MaxPooling2D(pool_size=(2, 2)))\n",
        "model.add(tf.keras.layers.Dropout(0.25))\n",
        "model.add(tf.keras.layers.Flatten())\n",
        "model.add(tf.keras.layers.Dense(128, activation='sigmoid'))\n",
        "model.add(tf.keras.layers.Dropout(0.5))\n",
        "model.add(tf.keras.layers.Dense(10,activation='softmax'))###(1))\n",
        "\n",
        "loss_fn = tf.keras.losses.SparseCategoricalCrossentropy(from_logits=True)\n",
        "\n",
        "model.compile(optimizer='SGD',\n",
        "              loss='sparse_categorical_crossentropy',##tf.keras.losses.BinaryCrossentropy(from_logits=True),##loss_fn,\n",
        "              metrics=['accuracy'])\n",
        "model.summary()"
      ],
      "metadata": {
        "id": "7EFlkRUGLapB",
        "colab": {
          "base_uri": "https://localhost:8080/"
        },
        "outputId": "6a0f8cb1-5457-471b-e4f2-6de622cc61a8"
      },
      "execution_count": null,
      "outputs": [
        {
          "output_type": "stream",
          "name": "stdout",
          "text": [
            "Model: \"sequential\"\n",
            "_________________________________________________________________\n",
            " Layer (type)                Output Shape              Param #   \n",
            "=================================================================\n",
            " flatten (Flatten)           (None, 784)               0         \n",
            "                                                                 \n",
            " dense (Dense)               (None, 128)               100480    \n",
            "                                                                 \n",
            " dropout (Dropout)           (None, 128)               0         \n",
            "                                                                 \n",
            " dense_1 (Dense)             (None, 10)                1290      \n",
            "                                                                 \n",
            "=================================================================\n",
            "Total params: 101,770\n",
            "Trainable params: 101,770\n",
            "Non-trainable params: 0\n",
            "_________________________________________________________________\n",
            "Model: \"sequential_1\"\n",
            "_________________________________________________________________\n",
            " Layer (type)                Output Shape              Param #   \n",
            "=================================================================\n",
            " conv2d (Conv2D)             (None, 26, 26, 32)        320       \n",
            "                                                                 \n",
            " conv2d_1 (Conv2D)           (None, 24, 24, 64)        18496     \n",
            "                                                                 \n",
            " max_pooling2d (MaxPooling2D  (None, 12, 12, 64)       0         \n",
            " )                                                               \n",
            "                                                                 \n",
            " dropout_1 (Dropout)         (None, 12, 12, 64)        0         \n",
            "                                                                 \n",
            " flatten_1 (Flatten)         (None, 9216)              0         \n",
            "                                                                 \n",
            " dense_2 (Dense)             (None, 128)               1179776   \n",
            "                                                                 \n",
            " dropout_2 (Dropout)         (None, 128)               0         \n",
            "                                                                 \n",
            " dense_3 (Dense)             (None, 10)                1290      \n",
            "                                                                 \n",
            "=================================================================\n",
            "Total params: 1,199,882\n",
            "Trainable params: 1,199,882\n",
            "Non-trainable params: 0\n",
            "_________________________________________________________________\n"
          ]
        }
      ]
    },
    {
      "cell_type": "code",
      "source": [
        "#学習データを使って、ニューラルネットワークの学習を行う\n",
        "#(5)：ここは、時間がかかる\n",
        "epochs=2\n",
        "result=model.fit(x_train, y_train,batch_size=128,verbose=1, epochs=epochs,validation_data=(x_test, y_test) )\n"
      ],
      "metadata": {
        "id": "dnlKPPPKLnxq",
        "colab": {
          "base_uri": "https://localhost:8080/"
        },
        "outputId": "2d2f623c-ea98-4e3d-8286-521abc0b71ec"
      },
      "execution_count": null,
      "outputs": [
        {
          "output_type": "stream",
          "name": "stdout",
          "text": [
            "Epoch 1/2\n",
            "469/469 [==============================] - 14s 29ms/step - loss: 1.9168 - accuracy: 0.3463 - val_loss: 0.7042 - val_accuracy: 0.8421\n",
            "Epoch 2/2\n",
            "469/469 [==============================] - 12s 26ms/step - loss: 0.6724 - accuracy: 0.8097 - val_loss: 0.4012 - val_accuracy: 0.8988\n"
          ]
        }
      ]
    },
    {
      "cell_type": "code",
      "source": [
        "#(6)\n",
        "model.evaluate(x_test, y_test)\n",
        "#(6.5)\n",
        "result.history.keys() # ヒストリデータのラベルを見てみる\n",
        "\n",
        "#(6.6)\n",
        "import matplotlib.pyplot as plt\n",
        "%matplotlib inline\n",
        "#epochs=1\n",
        "plt.plot(range(1, epochs+1), result.history['accuracy'], label=\"training\")\n",
        "plt.plot(range(1, epochs+1), result.history['val_accuracy'], label=\"validation\")\n",
        "plt.xlabel('Epochs')\n",
        "plt.ylabel('Accuracy')\n",
        "plt.legend()\n",
        "plt.show()\n",
        "\n",
        "#(7)\n",
        "y_pred = tf.argmax(model.predict(x_test), axis=-1).numpy()\n",
        "tf.math.confusion_matrix(y_test, y_pred)\n",
        "\n",
        "#(8)\n",
        "model.save(\"mymodel.h5\")\n",
        "\n",
        "#(9)ここにあるファイル\"mymodel.hd5”は終了後消える。保存には更にダウンロードが必要\n",
        "!ls -la\n",
        "\n",
        "#(10)modelの再読み込み\n",
        "model_2 = tf.keras.models.load_model(\"mymodel.h5\")"
      ],
      "metadata": {
        "id": "9YGH6fn_Lv2K",
        "colab": {
          "base_uri": "https://localhost:8080/",
          "height": 406
        },
        "outputId": "50f36929-0e07-49dd-c71e-da248750f3ec"
      },
      "execution_count": null,
      "outputs": [
        {
          "output_type": "stream",
          "name": "stdout",
          "text": [
            "313/313 [==============================] - 3s 10ms/step - loss: 0.4012 - accuracy: 0.8988\n"
          ]
        },
        {
          "output_type": "display_data",
          "data": {
            "text/plain": [
              "<Figure size 432x288 with 1 Axes>"
            ],
            "image/png": "[encoded data removed]"
          },
          "metadata": {
            "needs_background": "light"
          }
        },
        {
          "output_type": "stream",
          "name": "stdout",
          "text": [
            "total 4732\n",
            "drwxr-xr-x 1 root root    4096 May 16 09:41 .\n",
            "drwxr-xr-x 1 root root    4096 May 16 09:11 ..\n",
            "drwxr-xr-x 4 root root    4096 May  3 13:41 .config\n",
            "-rw-r--r-- 1 root root 4826744 May 16 09:41 mymodel.h5\n",
            "drwxr-xr-x 1 root root    4096 May  3 13:42 sample_data\n"
          ]
        }
      ]
    }
  ]
}