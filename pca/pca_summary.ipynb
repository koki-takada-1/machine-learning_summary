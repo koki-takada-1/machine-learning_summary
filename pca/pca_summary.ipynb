{
  "cells": [
    {
      "cell_type": "markdown",
      "metadata": {
        "id": "view-in-github",
        "colab_type": "text"
      },
      "source": [
        "<a href=\"https://colab.research.google.com/github/koki-takada-1/machine-learning_summary/blob/main/pca_summary.ipynb\" target=\"_parent\"><img src=\"https://colab.research.google.com/assets/colab-badge.svg\" alt=\"Open In Colab\"/></a>"
      ]
    },
    {
      "cell_type": "markdown",
      "id": "8a807b9b",
      "metadata": {
        "id": "8a807b9b"
      },
      "source": [
        "### 主成分分析の概要 <br>\n",
        "1.サンプルデータの入力　<br>\n",
        "RandomStateオブジェクトを使って、2変数のデータセットを生成し、各変数について標準化したものをプロット<br>\n",
        "(1)`np.Random.RandomState(1)`：シード（乱数の初期値）を1に設定した`RandomState`オブジェクトを作成 <br>\n",
        "　①rand関数とrandn関数を使って、2つの乱数を生成：sample.rand(2, 2), sample.randn(2, 200)の転置行列、の内積を求めて乱数値としている（X.shape→(2,200)) <br>\n",
        "　②標準化(X_std)：平均0、分散1 <br>\n",
        "　③①のX_stdの1列目と2列目の値の相関係数(sp.stats.pearsonr)：0.889と高い"
      ]
    },
    {
      "cell_type": "code",
      "execution_count": null,
      "id": "0f177c73",
      "metadata": {
        "id": "0f177c73"
      },
      "outputs": [],
      "source": [
        "import numpy as np\n",
        "import pandas as pd\n",
        "from pandas import Series, DataFrame\n",
        "import scipy as sp\n",
        "\n",
        "import matplotlib.pyplot as plt\n",
        "import matplotlib as mpl\n",
        "import seaborn as sns\n",
        "%matplotlib inline"
      ]
    },
    {
      "cell_type": "code",
      "execution_count": null,
      "id": "4e4f5db2",
      "metadata": {
        "id": "4e4f5db2",
        "outputId": "bb750229-ed61-41ef-95bc-ef7d72ca7f00"
      },
      "outputs": [
        {
          "name": "stdout",
          "output_type": "stream",
          "text": [
            "相関係数0.889:\n"
          ]
        },
        {
          "data": {
            "text/plain": [
              "<matplotlib.collections.PathCollection at 0x22f7e869910>"
            ]
          },
          "execution_count": 2,
          "metadata": {},
          "output_type": "execute_result"
        },
        {
          "data": {
            "image/png": "[encoded data removed]",
            "text/plain": [
              "<Figure size 432x288 with 1 Axes>"
            ]
          },
          "metadata": {
            "needs_background": "light"
          },
          "output_type": "display_data"
        }
      ],
      "source": [
        "from sklearn.preprocessing import StandardScaler\n",
        "\n",
        "# RandomStateオブジェクトを作成\n",
        "sample = np.random.RandomState(1)\n",
        "\n",
        "#２つの乱数を生成 \n",
        "X = np.dot(sample.rand(2, 2), sample.randn(2, 200)).T\n",
        "\n",
        "# 標準化\n",
        "sc = StandardScaler()\n",
        "X_std = sc.fit_transform(X)\n",
        "\n",
        "# 相関係数の算出とグラフ化\n",
        "print('相関係数{:.3f}:'.format(sp.stats.pearsonr(X_std[:, 0], X_std[:, 1])[0]))\n",
        "plt.scatter(X_std[:, 0], X_std[:, 1])"
      ]
    },
    {
      "cell_type": "code",
      "execution_count": null,
      "id": "ce80d05d",
      "metadata": {
        "id": "ce80d05d",
        "outputId": "0300eb53-f9a3-41ab-dba8-64d1931e5d62"
      },
      "outputs": [
        {
          "data": {
            "text/plain": [
              "array([[-0.62530162, -0.17006366],\n",
              "       [ 0.96069503,  0.5909006 ],\n",
              "       [-0.59854339, -0.40259339],\n",
              "       [-2.22805938, -0.53257674],\n",
              "       [-0.46143006, -0.49886724],\n",
              "       [-0.95892903, -0.26933102],\n",
              "       [-0.67307991, -0.33830855],\n",
              "       [ 1.30501861,  0.59135785],\n",
              "       [ 0.3745456 , -0.0985442 ],\n",
              "       [-1.82628627, -0.40617025]])"
            ]
          },
          "execution_count": 3,
          "metadata": {},
          "output_type": "execute_result"
        }
      ],
      "source": [
        "X[:10]"
      ]
    },
    {
      "cell_type": "code",
      "execution_count": null,
      "id": "c29f7fc6",
      "metadata": {
        "id": "c29f7fc6",
        "outputId": "8f2721c3-fade-415a-d253-e5b65a836f22"
      },
      "outputs": [
        {
          "data": {
            "text/plain": [
              "(200, 2)"
            ]
          },
          "execution_count": 4,
          "metadata": {},
          "output_type": "execute_result"
        }
      ],
      "source": [
        "X.shape"
      ]
    },
    {
      "cell_type": "code",
      "execution_count": null,
      "id": "3d30ad65",
      "metadata": {
        "id": "3d30ad65",
        "outputId": "608bac5a-e905-4df5-a4e3-f3fc07f8b88e"
      },
      "outputs": [
        {
          "data": {
            "text/plain": [
              "array([[-0.79965395, -0.52930205],\n",
              "       [ 1.12539597,  1.89733254],\n",
              "       [-0.76717536, -1.27081481],\n",
              "       [-2.74504816, -1.68531797],\n",
              "       [-0.60075004, -1.57782195],\n",
              "       [-1.204604  , -0.8458552 ],\n",
              "       [-0.85764625, -1.06581723],\n",
              "       [ 1.54332881,  1.89879066],\n",
              "       [ 0.41393991, -0.30123408],\n",
              "       [-2.25738427, -1.28222104]])"
            ]
          },
          "execution_count": 5,
          "metadata": {},
          "output_type": "execute_result"
        }
      ],
      "source": [
        "X_std[:10]"
      ]
    },
    {
      "cell_type": "code",
      "execution_count": null,
      "id": "7cd612c6",
      "metadata": {
        "id": "7cd612c6",
        "outputId": "2a54f153-c8ea-4241-8128-b916a82a53c3"
      },
      "outputs": [
        {
          "data": {
            "text/plain": [
              "(200, 2)"
            ]
          },
          "execution_count": 6,
          "metadata": {},
          "output_type": "execute_result"
        }
      ],
      "source": [
        "X_std.shape"
      ]
    },
    {
      "cell_type": "code",
      "execution_count": null,
      "id": "64338951",
      "metadata": {
        "id": "64338951"
      },
      "outputs": [],
      "source": [
        "#ご参考\n",
        "#np.random.randn(2, 3)"
      ]
    },
    {
      "cell_type": "code",
      "execution_count": null,
      "id": "9122a484",
      "metadata": {
        "id": "9122a484"
      },
      "outputs": [],
      "source": [
        "#sp.stats.pearsonr(X_std[:, 0], X_std[:, 1])[0]"
      ]
    },
    {
      "cell_type": "markdown",
      "id": "d81fab07",
      "metadata": {
        "id": "d81fab07"
      },
      "source": [
        "2.主成分分析の実行 <br>\n",
        "(1)sklearn.decompositionモジュールのPCAクラスを使用 <br>\n",
        "(2)オブジェクトの初期化：<br>\n",
        "n_components=2：抽出したい主成分の数（変数を何次元まで圧縮したいか）今回は2 <br>\n",
        "(3)学習の実行(fit)：<br>\n",
        "主成分の抽出に必要な情報を学習（固有値、固有ベクトルの計算）"
      ]
    },
    {
      "cell_type": "code",
      "execution_count": null,
      "id": "005d8235",
      "metadata": {
        "id": "005d8235",
        "outputId": "d9633bc4-ffa2-4968-b860-cab4285df699"
      },
      "outputs": [
        {
          "data": {
            "text/plain": [
              "PCA(n_components=2)"
            ]
          },
          "execution_count": 7,
          "metadata": {},
          "output_type": "execute_result"
        }
      ],
      "source": [
        "# インポート\n",
        "from sklearn.decomposition import PCA\n",
        "\n",
        "# 主成分分析\n",
        "pca = PCA(n_components=2)\n",
        "pca.fit(X_std)"
      ]
    },
    {
      "cell_type": "markdown",
      "id": "1acf938e",
      "metadata": {
        "id": "1acf938e"
      },
      "source": [
        "3.学習結果の確認 <br>\n",
        "(1)components_属性： 固有ベクトル<br>\n",
        "主成分分析により発見された新しい特徴空間の軸の向きを表す。<br>\n",
        "第1主成分[-0.70710678 -0.70710678]、第2主成分[-0.70710678  0.70710678] <br>\n",
        "<br>\n",
        "(2)explained_variance_属性： 各主成分の分散<br>\n",
        "[1.89888438 0.11116588] 主成分の分散の総和は2.0 = (標準化された)変数が元来有していた分散の総和 <br>\n",
        "<br>\n",
        "(3)explained_variance_ratio_属性：各主成分が持つ分散の比率 <br>\n",
        "[0.94469498 0.05530502] 0.945 = 1.899/(1.899+0.111) 第1主成分で元のデータの94.5%の情報を保持していると読める <br>\n"
      ]
    },
    {
      "cell_type": "code",
      "execution_count": null,
      "id": "5b505ba1",
      "metadata": {
        "id": "5b505ba1",
        "outputId": "ea440280-ad33-4798-8318-701843edf55d"
      },
      "outputs": [
        {
          "name": "stdout",
          "output_type": "stream",
          "text": [
            "[[-0.70710678 -0.70710678]\n",
            " [-0.70710678  0.70710678]]\n"
          ]
        }
      ],
      "source": [
        "#components_属性（固有ベクトル）列ベクトル (1-1)\n",
        "print(pca.components_)"
      ]
    },
    {
      "cell_type": "code",
      "execution_count": null,
      "id": "fed84e6a",
      "metadata": {
        "id": "fed84e6a",
        "outputId": "a83a38ec-421d-423f-e0b5-cfe65e2ca462"
      },
      "outputs": [
        {
          "name": "stdout",
          "output_type": "stream",
          "text": [
            "各主成分の分散:[1.89888438 0.11116588]\n"
          ]
        }
      ],
      "source": [
        "#explained_variance_属性（各主成分の分散）（固有値）(1-2)\n",
        "print('各主成分の分散:{}'.format(pca.explained_variance_))"
      ]
    },
    {
      "cell_type": "code",
      "execution_count": null,
      "id": "18097d65",
      "metadata": {
        "id": "18097d65",
        "outputId": "5dbe8bdf-61e2-4e94-c809-17b35d7a2e21"
      },
      "outputs": [
        {
          "name": "stdout",
          "output_type": "stream",
          "text": [
            "各主成分の分散割合:[0.94469498 0.05530502]\n"
          ]
        }
      ],
      "source": [
        "#explained_variance_ratio_属性（各主成分が持つ分散の比率）\n",
        "print('各主成分の分散割合:{}'.format(pca.explained_variance_ratio_))"
      ]
    },
    {
      "cell_type": "code",
      "execution_count": null,
      "id": "86386d62",
      "metadata": {
        "id": "86386d62",
        "outputId": "a3b5257f-b92b-440a-879a-cb555246673e"
      },
      "outputs": [
        {
          "data": {
            "text/plain": [
              "array([[ 0.9397138 ,  0.19116766],\n",
              "       [-2.13739183,  0.54584158],\n",
              "       [ 1.44107667, -0.35612687],\n",
              "       [ 3.13274193,  0.7493424 ],\n",
              "       [ 1.54048303, -0.69089417],\n",
              "       [ 1.4498936 ,  0.25367371],\n",
              "       [ 1.36009407, -0.14719911],\n",
              "       [-2.43394601,  0.25134949],\n",
              "       [-0.07969506, -0.50570438],\n",
              "       [ 2.50287892,  0.68954453]])"
            ]
          },
          "execution_count": 11,
          "metadata": {},
          "output_type": "execute_result"
        }
      ],
      "source": [
        "#transformメソッドで主成分スコアを求める (1-3)\n",
        "pca.fit_transform(np.transpose(np.array([X_std[:, 0], X_std[:, 1]])))[:10]"
      ]
    },
    {
      "cell_type": "code",
      "execution_count": null,
      "id": "7967a192",
      "metadata": {
        "id": "7967a192",
        "outputId": "1faa6ff6-7b3d-4799-834c-25dc6672cd5f"
      },
      "outputs": [
        {
          "data": {
            "text/plain": [
              "array([[-0.97439324, -0.97439324],\n",
              "       [-0.23576034,  0.23576034]])"
            ]
          },
          "execution_count": 12,
          "metadata": {},
          "output_type": "execute_result"
        }
      ],
      "source": [
        "#loading(主成分負荷量)\n",
        "pca.components_*np.c_[np.sqrt(pca.explained_variance_)]"
      ]
    },
    {
      "cell_type": "markdown",
      "id": "b82d45a0",
      "metadata": {
        "id": "b82d45a0"
      },
      "source": [
        "以下の矢印が主成分分析によって得られた新しい特徴空間の軸の方向。<br>\n",
        "分散が最大の方向に第1主成分が定まり、第2主成分とのベクトルに対して、お互いに直交<br>\n",
        "ベクトルの[-0.707,-0.707]が第1主成分、[-0.707,0.707]が第2主成分の向き"
      ]
    },
    {
      "cell_type": "code",
      "execution_count": null,
      "id": "21995f33",
      "metadata": {
        "id": "21995f33",
        "outputId": "9e8938e9-1994-49e6-9e5f-4b8176f77250"
      },
      "outputs": [
        {
          "data": {
            "image/png": "[encoded data removed]",
            "text/plain": [
              "<Figure size 432x288 with 1 Axes>"
            ]
          },
          "metadata": {
            "needs_background": "light"
          },
          "output_type": "display_data"
        }
      ],
      "source": [
        "# パラメータ設定\n",
        "arrowprops=dict(arrowstyle='->',\n",
        "                linewidth=2,\n",
        "                shrinkA=0, shrinkB=0)\n",
        "\n",
        "# 矢印を描くための関数\n",
        "def draw_vector(v0, v1):\n",
        "    plt.gca().annotate('', v1, v0, arrowprops=arrowprops)\n",
        "\n",
        "# 元のデータをプロット\n",
        "plt.scatter(X_std[:, 0], X_std[:, 1], alpha=0.2)\n",
        "\n",
        "# 主成分分析の2軸を矢印で表示する\n",
        "for length, vector in zip(pca.explained_variance_, pca.components_):\n",
        "    v = vector * 3 * np.sqrt(length)\n",
        "    draw_vector(pca.mean_, pca.mean_ + v)\n",
        "\n",
        "plt.axis('equal');"
      ]
    },
    {
      "cell_type": "code",
      "execution_count": null,
      "id": "c294ebde",
      "metadata": {
        "id": "c294ebde",
        "outputId": "cf7a892b-85b1-429d-94ad-85f97a5bfbd8"
      },
      "outputs": [
        {
          "name": "stdout",
          "output_type": "stream",
          "text": [
            "各主成分の平均:[-1.77635684e-17 -4.44089210e-18]\n"
          ]
        }
      ],
      "source": [
        "print('各主成分の平均:{}'.format(pca.mean_))"
      ]
    },
    {
      "cell_type": "code",
      "execution_count": null,
      "id": "a23cc8ba",
      "metadata": {
        "id": "a23cc8ba",
        "outputId": "bdbdd9ef-8ada-499f-b670-2253cde963e9"
      },
      "outputs": [
        {
          "data": {
            "text/plain": [
              "<matplotlib.quiver.Quiver at 0x29079405700>"
            ]
          },
          "execution_count": 14,
          "metadata": {},
          "output_type": "execute_result"
        },
        {
          "data": {
            "image/png": "[encoded data removed]",
            "text/plain": [
              "<Figure size 432x288 with 1 Axes>"
            ]
          },
          "metadata": {
            "needs_background": "light"
          },
          "output_type": "display_data"
        }
      ],
      "source": [
        "# display \n",
        "fig = plt.figure()\n",
        "axes = fig.add_subplot(111,aspect='equal')\n",
        "axes.scatter(X_std[:,0],X_std[:,1])\n",
        "axes.set_xlim([-4, 4])\n",
        "axes.set_ylim([-4, 4])\n",
        "axes.set_xlabel('x0')\n",
        "axes.set_ylabel('x1')\n",
        "axes.vlines(0,-0.2,3,linestyles='dashed')\n",
        "axes.hlines(0,-0.2,3,linestyles='dashed')\n",
        "axes.quiver(pca.mean_[0], pca.mean_[1], pca.components_[0,0],pca.components_[0,1], color='red', width=0.01, scale=3)\n",
        "axes.quiver(pca.mean_[0], pca.mean_[1], pca.components_[1,0],pca.components_[1,1], color='blue', width=0.01, scale=3)"
      ]
    },
    {
      "cell_type": "markdown",
      "id": "e9b0dd81",
      "metadata": {
        "id": "e9b0dd81"
      },
      "source": [
        "以下、固有ベクトル、固有値、主成分スコアの求め方の比較検証を行う <br>\n",
        "(1)pca:<br>\n",
        "(1-1)固有ベクトル：components_属性　pca.components_ <br>\n",
        "     [[-0.70710678 -0.70710678] [-0.70710678  0.70710678]] <br>\n",
        "<br>\n",
        "(1-2)固有値：explained_variance_属性 pca.explained_variance_ <br>\n",
        "     [1.89888438 0.11116588] <br>\n",
        "<br>\n",
        "(1-3)主成分スコア：transformメソッド<br>\n",
        "pca.fit_transform(np.transpose(np.array([X_std[:,0],X_std[:,1]]))) <br>\n",
        "[[ 0.9397138 ,0.19116766],[-2.13739183,0.54584158],… <br>\n",
        "<br>\n",
        "\n",
        "(2)分散共分散行列から求める <br>\n",
        "(2-0)分散共分散行列：<br>\n",
        "point_array=np.cov(X_std, rowvar=0, bias=1) <br>\n",
        "[[1,0.88938995],<br>\n",
        "[0.88938995,1]]<br>\n",
        "\n",
        "(2-1)固有ベクトル：<br>\n",
        "(2-2)固有値: <br>\n",
        "point_array_eig = np.linalg.eig(point_array) <br>\n",
        "(array([0.11061005, 1.88938995]),  　→【固有値】<br>\n",
        " array([[-0.70710678,-0.70710678],　→【固有ベクトル】<br>\n",
        "        [ 0.70710678,-0.70710678]]))<br>\n",
        "\n",
        "(2-3)主成分スコア：元データ×固有ベクトル <br>\n",
        "#元データ(200,2)×固有ベクトル(2,2)=主成分スコア(200,2)<br>\n",
        "pca0 = np.dot(X_std,pca.components_)<br>\n",
        "[[0.9397138 ,0.19116766],[-2.13739183,0.54584158],…<br>\n",
        "<br>\n",
        "\n",
        "→主成分負荷量を算出：<br>\n",
        "pca.components_*np.c_[np.sqrt(pca.explained_variance_)]\n",
        "<br>\n"
      ]
    },
    {
      "cell_type": "code",
      "execution_count": null,
      "id": "12d845cd",
      "metadata": {
        "id": "12d845cd"
      },
      "outputs": [],
      "source": [
        "pca0=np.array"
      ]
    },
    {
      "cell_type": "code",
      "execution_count": null,
      "id": "998667d3",
      "metadata": {
        "id": "998667d3"
      },
      "outputs": [],
      "source": [
        "#主成分スコアを求める(行列計算)\n",
        "#元データ(200,2)×固有ベクトル(2,2)=主成分(200,2)\n",
        "pca0 = np.dot(X_std,pca.components_)"
      ]
    },
    {
      "cell_type": "code",
      "execution_count": null,
      "id": "6ab60821",
      "metadata": {
        "id": "6ab60821",
        "outputId": "99e1a20f-a252-470a-b7c2-ede9981cbb46"
      },
      "outputs": [
        {
          "data": {
            "text/plain": [
              "array([[ 0.9397138 ,  0.19116766],\n",
              "       [-2.13739183,  0.54584158],\n",
              "       [ 1.44107667, -0.35612687],\n",
              "       [ 3.13274193,  0.7493424 ],\n",
              "       [ 1.54048303, -0.69089417],\n",
              "       [ 1.4498936 ,  0.25367371],\n",
              "       [ 1.36009407, -0.14719911],\n",
              "       [-2.43394601,  0.25134949],\n",
              "       [-0.07969506, -0.50570438],\n",
              "       [ 2.50287892,  0.68954453]])"
            ]
          },
          "execution_count": 15,
          "metadata": {},
          "output_type": "execute_result"
        }
      ],
      "source": [
        "pca0[:10]"
      ]
    },
    {
      "cell_type": "code",
      "execution_count": null,
      "id": "92268c19",
      "metadata": {
        "id": "92268c19",
        "outputId": "0eb15448-00d9-4e19-a8d3-d2d2dfcf0fc1"
      },
      "outputs": [
        {
          "data": {
            "text/plain": [
              "array([[-0.79965395, -0.52930205],\n",
              "       [ 1.12539597,  1.89733254],\n",
              "       [-0.76717536, -1.27081481],\n",
              "       [-2.74504816, -1.68531797],\n",
              "       [-0.60075004, -1.57782195],\n",
              "       [-1.204604  , -0.8458552 ],\n",
              "       [-0.85764625, -1.06581723],\n",
              "       [ 1.54332881,  1.89879066],\n",
              "       [ 0.41393991, -0.30123408],\n",
              "       [-2.25738427, -1.28222104]])"
            ]
          },
          "execution_count": 33,
          "metadata": {},
          "output_type": "execute_result"
        }
      ],
      "source": [
        "X_std[:10]"
      ]
    },
    {
      "cell_type": "code",
      "execution_count": null,
      "id": "76202bde",
      "metadata": {
        "id": "76202bde",
        "outputId": "b6626789-c444-46a4-acc4-0207990424b9"
      },
      "outputs": [
        {
          "data": {
            "text/plain": [
              "array([[1.        , 0.88938995],\n",
              "       [0.88938995, 1.        ]])"
            ]
          },
          "execution_count": 50,
          "metadata": {},
          "output_type": "execute_result"
        }
      ],
      "source": [
        "#分散共分散行列 (2-0)\n",
        "point_array=np.cov(X_std, rowvar=0, bias=1)\n",
        "point_array"
      ]
    },
    {
      "cell_type": "code",
      "execution_count": null,
      "id": "e42cd15b",
      "metadata": {
        "id": "e42cd15b",
        "outputId": "bbe1abc3-218c-40b0-f537-ddeef8fa81b3"
      },
      "outputs": [
        {
          "data": {
            "text/plain": [
              "(array([0.11061005, 1.88938995]),\n",
              " array([[-0.70710678, -0.70710678],\n",
              "        [ 0.70710678, -0.70710678]]))"
            ]
          },
          "execution_count": 51,
          "metadata": {},
          "output_type": "execute_result"
        }
      ],
      "source": [
        "#固有値、固有ベクトルを算出(独自計算) (2-1)(2-2)\n",
        "# point_arrayの固有値と固有ベクトル\n",
        "# インデクス0に固有値、インデクス1に固有ベクトルが格納される\n",
        "point_array_eig = np.linalg.eig(point_array)\n",
        "point_array_eig"
      ]
    },
    {
      "cell_type": "code",
      "execution_count": null,
      "id": "7d490b28",
      "metadata": {
        "id": "7d490b28"
      },
      "outputs": [],
      "source": [
        "#pca1 = np.dot(point_array,pca.components_)"
      ]
    },
    {
      "cell_type": "code",
      "execution_count": null,
      "id": "da3870d2",
      "metadata": {
        "id": "da3870d2"
      },
      "outputs": [],
      "source": [
        "#pca1"
      ]
    },
    {
      "cell_type": "code",
      "execution_count": null,
      "id": "d7b31ac3",
      "metadata": {
        "id": "d7b31ac3",
        "outputId": "741660db-acdb-4c56-d65f-c7e0eb2a181f"
      },
      "outputs": [
        {
          "data": {
            "text/plain": [
              "array([[-0.97439324, -0.97439324],\n",
              "       [-0.23576034,  0.23576034]])"
            ]
          },
          "execution_count": 53,
          "metadata": {},
          "output_type": "execute_result"
        }
      ],
      "source": [
        "#loading(主成分負荷量) (主因子法)\n",
        "pca.components_*np.c_[np.sqrt(pca.explained_variance_)]"
      ]
    }
  ],
  "metadata": {
    "kernelspec": {
      "display_name": "Python 3 (ipykernel)",
      "language": "python",
      "name": "python3"
    },
    "language_info": {
      "codemirror_mode": {
        "name": "ipython",
        "version": 3
      },
      "file_extension": ".py",
      "mimetype": "text/x-python",
      "name": "python",
      "nbconvert_exporter": "python",
      "pygments_lexer": "ipython3",
      "version": "3.9.7"
    },
    "colab": {
      "provenance": [],
      "include_colab_link": true
    }
  },
  "nbformat": 4,
  "nbformat_minor": 5
}
